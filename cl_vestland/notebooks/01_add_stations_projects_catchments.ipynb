{
 "cells": [
  {
   "cell_type": "code",
   "execution_count": 1,
   "metadata": {},
   "outputs": [],
   "source": [
    "%matplotlib inline\n",
    "\n",
    "import pandas as pd\n",
    "import nivapy3 as nivapy\n",
    "import geopandas as gpd\n",
    "import matplotlib.pyplot as plt\n",
    "import shapely\n",
    "from geoalchemy2 import Geometry, WKTElement\n",
    "from sqlalchemy import text\n",
    "from shapely.geometry.polygon import Polygon\n",
    "from shapely.geometry.multipolygon import MultiPolygon\n",
    "\n",
    "plt.style.use(\"ggplot\")"
   ]
  },
  {
   "cell_type": "markdown",
   "metadata": {},
   "source": [
    "# CL Vestland: Add catchment data to PostGIS\n",
    "\n",
    "Add catchment data from the template here:\n",
    "\n",
    "    critical_loads_2/cl_vestland/cl_vestland_stns.xlsx"
   ]
  },
  {
   "cell_type": "code",
   "execution_count": 2,
   "metadata": {},
   "outputs": [
    {
     "name": "stdin",
     "output_type": "stream",
     "text": [
      "Username:  ········\n",
      "Password:  ·······\n"
     ]
    },
    {
     "name": "stdout",
     "output_type": "stream",
     "text": [
      "Connection successful.\n"
     ]
    }
   ],
   "source": [
    "# Connect to PostGIS\n",
    "# If connecting from JupyterHub\n",
    "eng = nivapy.da.connect_postgis(admin=True)"
   ]
  },
  {
   "cell_type": "markdown",
   "metadata": {},
   "source": [
    "## 1. Add project"
   ]
  },
  {
   "cell_type": "code",
   "execution_count": 3,
   "metadata": {},
   "outputs": [
    {
     "data": {
      "text/html": [
       "<div>\n",
       "<style scoped>\n",
       "    .dataframe tbody tr th:only-of-type {\n",
       "        vertical-align: middle;\n",
       "    }\n",
       "\n",
       "    .dataframe tbody tr th {\n",
       "        vertical-align: top;\n",
       "    }\n",
       "\n",
       "    .dataframe thead th {\n",
       "        text-align: right;\n",
       "    }\n",
       "</style>\n",
       "<table border=\"1\" class=\"dataframe\">\n",
       "  <thead>\n",
       "    <tr style=\"text-align: right;\">\n",
       "      <th></th>\n",
       "      <th>project_code</th>\n",
       "      <th>project_name</th>\n",
       "      <th>aquamonitor_id</th>\n",
       "      <th>contact</th>\n",
       "      <th>description</th>\n",
       "    </tr>\n",
       "  </thead>\n",
       "  <tbody>\n",
       "    <tr>\n",
       "      <th>0</th>\n",
       "      <td>190246</td>\n",
       "      <td>CL Vestland</td>\n",
       "      <td>NaN</td>\n",
       "      <td>KAU</td>\n",
       "      <td>Critical loads calculations for Vestland</td>\n",
       "    </tr>\n",
       "  </tbody>\n",
       "</table>\n",
       "</div>"
      ],
      "text/plain": [
       "   project_code project_name  aquamonitor_id contact  \\\n",
       "0        190246  CL Vestland             NaN     KAU   \n",
       "\n",
       "                                description  \n",
       "0  Critical loads calculations for Vestland  "
      ]
     },
     "execution_count": 3,
     "metadata": {},
     "output_type": "execute_result"
    }
   ],
   "source": [
    "# Read projects\n",
    "xl_path = r\"../cl_vestland_stns.xlsx\"\n",
    "proj_df = pd.read_excel(xl_path, sheet_name=\"project\")\n",
    "assert len(proj_df) == 1\n",
    "\n",
    "proj_df"
   ]
  },
  {
   "cell_type": "code",
   "execution_count": null,
   "metadata": {},
   "outputs": [],
   "source": [
    "## Add project\n",
    "#proj_df.to_sql(\n",
    "#    \"projects\", schema=\"niva\", con=eng, if_exists=\"append\", index=False,\n",
    "#)"
   ]
  },
  {
   "cell_type": "markdown",
   "metadata": {},
   "source": [
    "## 2. Add stations"
   ]
  },
  {
   "cell_type": "code",
   "execution_count": 4,
   "metadata": {},
   "outputs": [
    {
     "data": {
      "text/html": [
       "<div>\n",
       "<style scoped>\n",
       "    .dataframe tbody tr th:only-of-type {\n",
       "        vertical-align: middle;\n",
       "    }\n",
       "\n",
       "    .dataframe tbody tr th {\n",
       "        vertical-align: top;\n",
       "    }\n",
       "\n",
       "    .dataframe thead th {\n",
       "        text-align: right;\n",
       "    }\n",
       "</style>\n",
       "<table border=\"1\" class=\"dataframe\">\n",
       "  <thead>\n",
       "    <tr style=\"text-align: right;\">\n",
       "      <th></th>\n",
       "      <th>station_code</th>\n",
       "      <th>station_name</th>\n",
       "      <th>aquamonitor_id</th>\n",
       "      <th>longitude</th>\n",
       "      <th>latitude</th>\n",
       "      <th>fpath_or_id</th>\n",
       "    </tr>\n",
       "  </thead>\n",
       "  <tbody>\n",
       "    <tr>\n",
       "      <th>0</th>\n",
       "      <td>Sam_Tyss</td>\n",
       "      <td>Samnanger_Tysseelva</td>\n",
       "      <td>NaN</td>\n",
       "      <td>5.758580</td>\n",
       "      <td>60.374899</td>\n",
       "      <td>/home/jovyan/projects/critical_loads_2/shapefi...</td>\n",
       "    </tr>\n",
       "    <tr>\n",
       "      <th>1</th>\n",
       "      <td>Sam_Stor</td>\n",
       "      <td>Samnanger_Storelva</td>\n",
       "      <td>NaN</td>\n",
       "      <td>5.798443</td>\n",
       "      <td>60.384011</td>\n",
       "      <td>/home/jovyan/projects/critical_loads_2/shapefi...</td>\n",
       "    </tr>\n",
       "    <tr>\n",
       "      <th>2</th>\n",
       "      <td>Sam_Froe</td>\n",
       "      <td>Samnanger_Frolandselva</td>\n",
       "      <td>NaN</td>\n",
       "      <td>5.798510</td>\n",
       "      <td>60.380058</td>\n",
       "      <td>/home/jovyan/projects/critical_loads_2/shapefi...</td>\n",
       "    </tr>\n",
       "    <tr>\n",
       "      <th>3</th>\n",
       "      <td>Sam_Frok</td>\n",
       "      <td>Samnanger_Frolandskanalen</td>\n",
       "      <td>NaN</td>\n",
       "      <td>5.793918</td>\n",
       "      <td>60.381434</td>\n",
       "      <td>/home/jovyan/projects/critical_loads_2/shapefi...</td>\n",
       "    </tr>\n",
       "  </tbody>\n",
       "</table>\n",
       "</div>"
      ],
      "text/plain": [
       "  station_code               station_name  aquamonitor_id  longitude  \\\n",
       "0     Sam_Tyss        Samnanger_Tysseelva             NaN   5.758580   \n",
       "1     Sam_Stor         Samnanger_Storelva             NaN   5.798443   \n",
       "2     Sam_Froe     Samnanger_Frolandselva             NaN   5.798510   \n",
       "3     Sam_Frok  Samnanger_Frolandskanalen             NaN   5.793918   \n",
       "\n",
       "    latitude                                        fpath_or_id  \n",
       "0  60.374899  /home/jovyan/projects/critical_loads_2/shapefi...  \n",
       "1  60.384011  /home/jovyan/projects/critical_loads_2/shapefi...  \n",
       "2  60.380058  /home/jovyan/projects/critical_loads_2/shapefi...  \n",
       "3  60.381434  /home/jovyan/projects/critical_loads_2/shapefi...  "
      ]
     },
     "execution_count": 4,
     "metadata": {},
     "output_type": "execute_result"
    }
   ],
   "source": [
    "# Read stations\n",
    "xl_path = r\"../cl_vestland_stns.xlsx\"\n",
    "stn_df = pd.read_excel(xl_path, sheet_name=\"stations\")\n",
    "stn_df[\"longitude\"] = stn_df[\"longitude\"].round(6)\n",
    "stn_df[\"latitude\"] = stn_df[\"latitude\"].round(6)\n",
    "\n",
    "stn_df.head()"
   ]
  },
  {
   "cell_type": "code",
   "execution_count": 5,
   "metadata": {},
   "outputs": [
    {
     "data": {
      "text/html": [
       "<div>\n",
       "<style scoped>\n",
       "    .dataframe tbody tr th:only-of-type {\n",
       "        vertical-align: middle;\n",
       "    }\n",
       "\n",
       "    .dataframe tbody tr th {\n",
       "        vertical-align: top;\n",
       "    }\n",
       "\n",
       "    .dataframe thead th {\n",
       "        text-align: right;\n",
       "    }\n",
       "</style>\n",
       "<table border=\"1\" class=\"dataframe\">\n",
       "  <thead>\n",
       "    <tr style=\"text-align: right;\">\n",
       "      <th></th>\n",
       "      <th>station_code</th>\n",
       "      <th>station_name</th>\n",
       "      <th>aquamonitor_id</th>\n",
       "      <th>longitude</th>\n",
       "      <th>latitude</th>\n",
       "      <th>geom</th>\n",
       "    </tr>\n",
       "  </thead>\n",
       "  <tbody>\n",
       "    <tr>\n",
       "      <th>0</th>\n",
       "      <td>Sam_Tyss</td>\n",
       "      <td>Samnanger_Tysseelva</td>\n",
       "      <td>NaN</td>\n",
       "      <td>5.758580</td>\n",
       "      <td>60.374899</td>\n",
       "      <td>POINT (5.75858 60.374899)</td>\n",
       "    </tr>\n",
       "    <tr>\n",
       "      <th>1</th>\n",
       "      <td>Sam_Stor</td>\n",
       "      <td>Samnanger_Storelva</td>\n",
       "      <td>NaN</td>\n",
       "      <td>5.798443</td>\n",
       "      <td>60.384011</td>\n",
       "      <td>POINT (5.798443 60.384011)</td>\n",
       "    </tr>\n",
       "    <tr>\n",
       "      <th>2</th>\n",
       "      <td>Sam_Froe</td>\n",
       "      <td>Samnanger_Frolandselva</td>\n",
       "      <td>NaN</td>\n",
       "      <td>5.798510</td>\n",
       "      <td>60.380058</td>\n",
       "      <td>POINT (5.79851 60.380058)</td>\n",
       "    </tr>\n",
       "    <tr>\n",
       "      <th>3</th>\n",
       "      <td>Sam_Frok</td>\n",
       "      <td>Samnanger_Frolandskanalen</td>\n",
       "      <td>NaN</td>\n",
       "      <td>5.793918</td>\n",
       "      <td>60.381434</td>\n",
       "      <td>POINT (5.793918 60.381434)</td>\n",
       "    </tr>\n",
       "  </tbody>\n",
       "</table>\n",
       "</div>"
      ],
      "text/plain": [
       "  station_code               station_name  aquamonitor_id  longitude  \\\n",
       "0     Sam_Tyss        Samnanger_Tysseelva             NaN   5.758580   \n",
       "1     Sam_Stor         Samnanger_Storelva             NaN   5.798443   \n",
       "2     Sam_Froe     Samnanger_Frolandselva             NaN   5.798510   \n",
       "3     Sam_Frok  Samnanger_Frolandskanalen             NaN   5.793918   \n",
       "\n",
       "    latitude                        geom  \n",
       "0  60.374899   POINT (5.75858 60.374899)  \n",
       "1  60.384011  POINT (5.798443 60.384011)  \n",
       "2  60.380058   POINT (5.79851 60.380058)  \n",
       "3  60.381434  POINT (5.793918 60.381434)  "
      ]
     },
     "execution_count": 5,
     "metadata": {},
     "output_type": "execute_result"
    }
   ],
   "source": [
    "# Build geom\n",
    "stn_gdf = gpd.GeoDataFrame(\n",
    "    stn_df,\n",
    "    crs={\"init\": \"epsg:4326\"},\n",
    "    geometry=gpd.points_from_xy(stn_df.longitude, stn_df.latitude),\n",
    ").copy()\n",
    "stn_gdf[\"geom\"] = stn_gdf[\"geometry\"].apply(lambda x: WKTElement(x.wkt, srid=4326))\n",
    "del stn_gdf[\"fpath_or_id\"], stn_gdf[\"geometry\"]\n",
    "\n",
    "stn_gdf.head()"
   ]
  },
  {
   "cell_type": "code",
   "execution_count": null,
   "metadata": {},
   "outputs": [],
   "source": [
    "## Add stations\n",
    "#stn_gdf.to_sql(\n",
    "#    \"stations\",\n",
    "#    schema=\"niva\",\n",
    "#    con=eng,\n",
    "#    if_exists=\"append\",\n",
    "#    index=False,\n",
    "#    dtype={\"geom\": Geometry(\"POINT\", srid=4326)},\n",
    "#    method=\"multi\",\n",
    "#    chunksize=1000,\n",
    "#)"
   ]
  },
  {
   "cell_type": "markdown",
   "metadata": {},
   "source": [
    "## 3. Add project-stations"
   ]
  },
  {
   "cell_type": "code",
   "execution_count": 6,
   "metadata": {},
   "outputs": [
    {
     "data": {
      "text/html": [
       "<div>\n",
       "<style scoped>\n",
       "    .dataframe tbody tr th:only-of-type {\n",
       "        vertical-align: middle;\n",
       "    }\n",
       "\n",
       "    .dataframe tbody tr th {\n",
       "        vertical-align: top;\n",
       "    }\n",
       "\n",
       "    .dataframe thead th {\n",
       "        text-align: right;\n",
       "    }\n",
       "</style>\n",
       "<table border=\"1\" class=\"dataframe\">\n",
       "  <thead>\n",
       "    <tr style=\"text-align: right;\">\n",
       "      <th></th>\n",
       "      <th>station_id</th>\n",
       "      <th>project_id</th>\n",
       "    </tr>\n",
       "  </thead>\n",
       "  <tbody>\n",
       "    <tr>\n",
       "      <th>0</th>\n",
       "      <td>78</td>\n",
       "      <td>2</td>\n",
       "    </tr>\n",
       "    <tr>\n",
       "      <th>1</th>\n",
       "      <td>79</td>\n",
       "      <td>2</td>\n",
       "    </tr>\n",
       "    <tr>\n",
       "      <th>2</th>\n",
       "      <td>80</td>\n",
       "      <td>2</td>\n",
       "    </tr>\n",
       "    <tr>\n",
       "      <th>3</th>\n",
       "      <td>81</td>\n",
       "      <td>2</td>\n",
       "    </tr>\n",
       "  </tbody>\n",
       "</table>\n",
       "</div>"
      ],
      "text/plain": [
       "   station_id  project_id\n",
       "0          78           2\n",
       "1          79           2\n",
       "2          80           2\n",
       "3          81           2"
      ]
     },
     "execution_count": 6,
     "metadata": {},
     "output_type": "execute_result"
    }
   ],
   "source": [
    "# Build table for projects-stations\n",
    "# Get station IDs\n",
    "stn_codes = tuple(stn_df[\"station_code\"].unique())\n",
    "sql = text(\"SELECT station_id FROM niva.stations \" \"WHERE station_code IN :stn_codes\")\n",
    "prst_df = pd.read_sql(sql, params={\"stn_codes\": stn_codes}, con=eng)\n",
    "\n",
    "# Get project ID\n",
    "proj_code = proj_df[\"project_code\"].values[0]\n",
    "sql = text(\"SELECT project_id FROM niva.projects \" \"WHERE project_code = :proj_code\")\n",
    "proj_id = pd.read_sql(sql, params={\"proj_code\": str(proj_code)}, con=eng)[\n",
    "    \"project_id\"\n",
    "].iloc[0]\n",
    "\n",
    "prst_df[\"project_id\"] = proj_id\n",
    "prst_df.head()"
   ]
  },
  {
   "cell_type": "code",
   "execution_count": null,
   "metadata": {},
   "outputs": [],
   "source": [
    "## Add projects-stations\n",
    "#prst_df.to_sql(\n",
    "#    \"projects_stations\",\n",
    "#    schema=\"niva\",\n",
    "#    con=eng,\n",
    "#    if_exists=\"append\",\n",
    "#    index=False,\n",
    "#    method=\"multi\",\n",
    "#    chunksize=1000,\n",
    "#)"
   ]
  },
  {
   "cell_type": "markdown",
   "metadata": {},
   "source": [
    "## 4. Add catchments"
   ]
  },
  {
   "cell_type": "code",
   "execution_count": 7,
   "metadata": {},
   "outputs": [
    {
     "data": {
      "text/html": [
       "<div>\n",
       "<style scoped>\n",
       "    .dataframe tbody tr th:only-of-type {\n",
       "        vertical-align: middle;\n",
       "    }\n",
       "\n",
       "    .dataframe tbody tr th {\n",
       "        vertical-align: top;\n",
       "    }\n",
       "\n",
       "    .dataframe thead th {\n",
       "        text-align: right;\n",
       "    }\n",
       "</style>\n",
       "<table border=\"1\" class=\"dataframe\">\n",
       "  <thead>\n",
       "    <tr style=\"text-align: right;\">\n",
       "      <th></th>\n",
       "      <th>station_code</th>\n",
       "      <th>geometry</th>\n",
       "    </tr>\n",
       "  </thead>\n",
       "  <tbody>\n",
       "    <tr>\n",
       "      <th>0</th>\n",
       "      <td>Sam_Tyss</td>\n",
       "      <td>POLYGON Z ((-6481.562 6728412.895 0.000, -6486...</td>\n",
       "    </tr>\n",
       "    <tr>\n",
       "      <th>1</th>\n",
       "      <td>Sam_Stor</td>\n",
       "      <td>POLYGON Z ((-4989.585 6733365.944 0.000, -5033...</td>\n",
       "    </tr>\n",
       "    <tr>\n",
       "      <th>2</th>\n",
       "      <td>Sam_Froe</td>\n",
       "      <td>POLYGON Z ((2525.877 6733985.895 0.000, 2583.5...</td>\n",
       "    </tr>\n",
       "    <tr>\n",
       "      <th>3</th>\n",
       "      <td>Sam_Frok</td>\n",
       "      <td>POLYGON Z ((2525.877 6733985.895 0.000, 2502.7...</td>\n",
       "    </tr>\n",
       "  </tbody>\n",
       "</table>\n",
       "</div>"
      ],
      "text/plain": [
       "  station_code                                           geometry\n",
       "0     Sam_Tyss  POLYGON Z ((-6481.562 6728412.895 0.000, -6486...\n",
       "1     Sam_Stor  POLYGON Z ((-4989.585 6733365.944 0.000, -5033...\n",
       "2     Sam_Froe  POLYGON Z ((2525.877 6733985.895 0.000, 2583.5...\n",
       "3     Sam_Frok  POLYGON Z ((2525.877 6733985.895 0.000, 2502.7..."
      ]
     },
     "execution_count": 7,
     "metadata": {},
     "output_type": "execute_result"
    }
   ],
   "source": [
    "# Loop over catchments\n",
    "gdf_list = []\n",
    "for idx, row in stn_df.iterrows():\n",
    "    stn_code = row[\"station_code\"]\n",
    "    shp_path = row[\"fpath_or_id\"]\n",
    "    cat_gdf = gpd.read_file(shp_path)\n",
    "    cat_gdf[\"dissolve\"] = 1\n",
    "    cat_gdf[\"station_code\"] = stn_code\n",
    "    cat_gdf = cat_gdf.dissolve(by=\"dissolve\").reset_index()\n",
    "    cat_gdf = cat_gdf[[\"station_code\", \"geometry\"]]\n",
    "    gdf_list.append(cat_gdf)\n",
    "\n",
    "cat_gdf = pd.concat(gdf_list).reset_index(drop=True)\n",
    "cat_gdf.head()"
   ]
  },
  {
   "cell_type": "code",
   "execution_count": 8,
   "metadata": {},
   "outputs": [
    {
     "name": "stderr",
     "output_type": "stream",
     "text": [
      "/home/jovyan/.local/lib/python3.7/site-packages/pyproj/crs/crs.py:53: FutureWarning: '+init=<authority>:<code>' syntax is deprecated. '<authority>:<code>' is the preferred initialization method. When making the change, be mindful of axis order changes: https://pyproj4.github.io/pyproj/stable/gotchas.html#axis-order-changes-in-proj-6\n",
      "  return _prepare_from_string(\" \".join(pjargs))\n"
     ]
    },
    {
     "data": {
      "text/html": [
       "<div>\n",
       "<style scoped>\n",
       "    .dataframe tbody tr th:only-of-type {\n",
       "        vertical-align: middle;\n",
       "    }\n",
       "\n",
       "    .dataframe tbody tr th {\n",
       "        vertical-align: top;\n",
       "    }\n",
       "\n",
       "    .dataframe thead th {\n",
       "        text-align: right;\n",
       "    }\n",
       "</style>\n",
       "<table border=\"1\" class=\"dataframe\">\n",
       "  <thead>\n",
       "    <tr style=\"text-align: right;\">\n",
       "      <th></th>\n",
       "      <th>station_id</th>\n",
       "      <th>geom</th>\n",
       "    </tr>\n",
       "  </thead>\n",
       "  <tbody>\n",
       "    <tr>\n",
       "      <th>0</th>\n",
       "      <td>78</td>\n",
       "      <td>MULTIPOLYGON (((5.795751696587917 60.372852727...</td>\n",
       "    </tr>\n",
       "    <tr>\n",
       "      <th>1</th>\n",
       "      <td>79</td>\n",
       "      <td>MULTIPOLYGON (((5.809986354734426 60.418614454...</td>\n",
       "    </tr>\n",
       "    <tr>\n",
       "      <th>2</th>\n",
       "      <td>80</td>\n",
       "      <td>MULTIPOLYGON (((5.943204426129982 60.433416014...</td>\n",
       "    </tr>\n",
       "    <tr>\n",
       "      <th>3</th>\n",
       "      <td>81</td>\n",
       "      <td>MULTIPOLYGON (((5.943204426129982 60.433416014...</td>\n",
       "    </tr>\n",
       "  </tbody>\n",
       "</table>\n",
       "</div>"
      ],
      "text/plain": [
       "   station_id                                               geom\n",
       "0          78  MULTIPOLYGON (((5.795751696587917 60.372852727...\n",
       "1          79  MULTIPOLYGON (((5.809986354734426 60.418614454...\n",
       "2          80  MULTIPOLYGON (((5.943204426129982 60.433416014...\n",
       "3          81  MULTIPOLYGON (((5.943204426129982 60.433416014..."
      ]
     },
     "execution_count": 8,
     "metadata": {},
     "output_type": "execute_result"
    }
   ],
   "source": [
    "# Get station IDs from db\n",
    "proj_id = 2\n",
    "sql = text(\n",
    "    \"SELECT station_id, station_code FROM niva.stations \"\n",
    "    \"WHERE station_id IN ( \"\n",
    "    \"  SELECT station_id from niva.projects_stations \"\n",
    "    \"  WHERE project_id = :proj_id)\"\n",
    ")\n",
    "stn_ids = pd.read_sql(sql, params={\"proj_id\": proj_id}, con=eng)\n",
    "\n",
    "# Join catchments\n",
    "cat_gdf = cat_gdf.merge(stn_ids, on=\"station_code\")\n",
    "\n",
    "# Reproject to WGS84 GCS\n",
    "cat_gdf = cat_gdf.to_crs({\"init\": \"epsg:4326\"})\n",
    "\n",
    "# Cast to multi\n",
    "cat_gdf[\"geometry\"] = [\n",
    "    MultiPolygon([feature]) if type(feature) == Polygon else feature\n",
    "    for feature in cat_gdf[\"geometry\"]\n",
    "]\n",
    "\n",
    "# Convert 3D to 2D\n",
    "cat_gdf[\"geom\"] = cat_gdf[\"geometry\"].apply(\n",
    "    lambda x: shapely.wkb.loads(shapely.wkb.dumps(x, output_dimension=2))\n",
    ")\n",
    "\n",
    "# Tidy\n",
    "cat_gdf[\"geom\"] = cat_gdf[\"geom\"].apply(lambda x: WKTElement(x.wkt, srid=4326))\n",
    "cat_gdf = cat_gdf[[\"station_id\", \"geom\"]]\n",
    "\n",
    "cat_gdf.head()"
   ]
  },
  {
   "cell_type": "code",
   "execution_count": 9,
   "metadata": {},
   "outputs": [],
   "source": [
    "## Add catchments\n",
    "#cat_gdf.to_sql(\n",
    "#    \"catchments\",\n",
    "#    schema=\"niva\",\n",
    "#    con=eng,\n",
    "#    if_exists=\"append\",\n",
    "#    index=False,\n",
    "#    dtype={\"geom\": Geometry(\"MULTIPOLYGON\", srid=4326)},\n",
    "#    method=\"multi\",\n",
    "#    chunksize=1000,\n",
    "#)"
   ]
  }
 ],
 "metadata": {
  "kernelspec": {
   "display_name": "Python 3",
   "language": "python",
   "name": "python3"
  },
  "language_info": {
   "codemirror_mode": {
    "name": "ipython",
    "version": 3
   },
   "file_extension": ".py",
   "mimetype": "text/x-python",
   "name": "python",
   "nbconvert_exporter": "python",
   "pygments_lexer": "ipython3",
   "version": "3.7.4"
  }
 },
 "nbformat": 4,
 "nbformat_minor": 4
}
