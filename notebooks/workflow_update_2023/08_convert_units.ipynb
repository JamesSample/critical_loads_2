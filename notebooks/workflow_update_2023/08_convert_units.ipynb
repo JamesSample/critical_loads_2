{
 "cells": [
  {
   "cell_type": "code",
   "execution_count": 1,
   "id": "b098f003-5ae8-48be-a4a5-2de77fe9a02a",
   "metadata": {},
   "outputs": [],
   "source": [
    "from pathlib import Path\n",
    "\n",
    "import rioxarray as rio"
   ]
  },
  {
   "cell_type": "markdown",
   "id": "44ffb9df-c4da-4582-9098-b3c3159ffeee",
   "metadata": {},
   "source": [
    "# Convert units\n",
    "\n",
    "Espen would like all grids converting from mg/m2 to meq/m2."
   ]
  },
  {
   "cell_type": "code",
   "execution_count": 2,
   "id": "4c275846-3a62-4709-99e1-84c20dc7334a",
   "metadata": {},
   "outputs": [
    {
     "name": "stdout",
     "output_type": "stream",
     "text": [
      "sat_veg_120m_cl_100smgn_m2_yr_subdiv_water.tif\n",
      "veg_ex_mgpm2pyr_1216_old_120m.tif\n",
      "veg_ex_mgpm2pyr_9701_120m.tif\n",
      "veg_ex_mgpm2pyr_8892_120m.tif\n",
      "veg_ex_mgpm2pyr_8387_120m.tif\n",
      "veg_ex_mgpm2pyr_0711_120m.tif\n",
      "veg_ex_mgpm2pyr_1721_metgrid_120m.tif\n",
      "veg_ex_mgpm2pyr_9296_120m.tif\n",
      "veg_ex_mgpm2pyr_1721_old_120m.tif\n",
      "veg_ex_mgpm2pyr_0206_120m.tif\n",
      "veg_ex_mgpm2pyr_7882_120m.tif\n",
      "veg_ex_mgpm2pyr_1721_blrgrid_120m.tif\n",
      "sdep_mgpm2pyr_1721_metgrid_120m.tif\n",
      "ndep_mgpm2pyr_1721_metgrid_120m.tif\n"
     ]
    }
   ],
   "source": [
    "base_path = r\"/home/jovyan/shared/critical_loads/raster/for_espen\"\n",
    "ndv = -9999\n",
    "\n",
    "for path in Path(base_path).rglob(\"*.tif\"):\n",
    "    if \"100smgn\" in path.name:\n",
    "        # Sat veg. N only\n",
    "        print(path.name)\n",
    "        new_name = path.name.replace(\"100smgn\", \"meqn\")\n",
    "        out_path = path.parent.joinpath(new_name)\n",
    "\n",
    "        # Convert\n",
    "        da = rio.open_rasterio(path, mask_and_scale=True).sel(band=1)\n",
    "        da = 100 * da / 14\n",
    "        da = da.fillna(ndv)#.round(0)\n",
    "        da.rio.write_nodata(ndv, inplace=True)\n",
    "        da.rio.to_raster(out_path, compress=\"lzw\", dtype=\"float32\")\n",
    "\n",
    "    elif \"mg\" in path.name:\n",
    "        print(path.name)\n",
    "        new_name = path.name.replace(\"mg\", \"meq\")\n",
    "        out_path = path.parent.joinpath(new_name)\n",
    "\n",
    "        # Determine parameter to convert\n",
    "        if \"veg\" in path.name:\n",
    "            par = \"n\"\n",
    "        elif \"ndep\" in path.name:\n",
    "            par = \"n\"\n",
    "        elif \"sdep\" in path.name:\n",
    "            par = \"s\"\n",
    "        else:\n",
    "            raise ValueError(\"Could not identify parameter.\")\n",
    "\n",
    "        # Convert\n",
    "        da = rio.open_rasterio(path, mask_and_scale=True).sel(band=1)\n",
    "        if par == \"s\":\n",
    "            da = 2 * da / 32.06\n",
    "        else:\n",
    "            da = da / 14\n",
    "        da = da.round(0)\n",
    "        da = da.fillna(ndv)#.round(0)\n",
    "        da.rio.write_nodata(ndv, inplace=True)\n",
    "        da.rio.to_raster(out_path, compress=\"lzw\", dtype=\"float32\")"
   ]
  }
 ],
 "metadata": {
  "kernelspec": {
   "display_name": "Python 3 (ipykernel)",
   "language": "python",
   "name": "python3"
  },
  "language_info": {
   "codemirror_mode": {
    "name": "ipython",
    "version": 3
   },
   "file_extension": ".py",
   "mimetype": "text/x-python",
   "name": "python",
   "nbconvert_exporter": "python",
   "pygments_lexer": "ipython3",
   "version": "3.10.6"
  }
 },
 "nbformat": 4,
 "nbformat_minor": 5
}
