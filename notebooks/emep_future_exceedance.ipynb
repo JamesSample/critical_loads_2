{
 "cells": [
  {
   "cell_type": "code",
   "execution_count": 1,
   "metadata": {},
   "outputs": [],
   "source": [
    "%matplotlib inline\n",
    "import nivapy3 as nivapy\n",
    "import pandas as pd\n",
    "import geopandas as gpd\n",
    "import matplotlib.pyplot as plt\n",
    "import critical_loads as cl\n",
    "import warnings\n",
    "import os\n",
    "import numpy as np\n",
    "import gdal\n",
    "\n",
    "warnings.simplefilter('ignore')\n",
    "plt.style.use('ggplot')"
   ]
  },
  {
   "cell_type": "code",
   "execution_count": 2,
   "metadata": {},
   "outputs": [
    {
     "name": "stdout",
     "output_type": "stream",
     "text": [
      "Connection successful.\n"
     ]
    }
   ],
   "source": [
    "# Connect to PostGIS\n",
    "eng = nivapy.da.connect_postgis(database='critical_loads')"
   ]
  },
  {
   "cell_type": "markdown",
   "metadata": {},
   "source": [
    "# Exceedances of critical loads for water using bias-corrected EMEP data\n",
    "\n",
    "Kari needs to calculate exceedances of critical loads for water using bias-corrceted EMEP data for the 2020s and 2030s (see e-mail received 23.09.2020 at 08.53 for details). "
   ]
  },
  {
   "cell_type": "markdown",
   "metadata": {},
   "source": [
    "## 1. Deposition\n",
    "\n",
    "The code [here](https://nbviewer.jupyter.org/github/JamesSample/critical_loads_2/blob/master/notebooks/02_deposition_new_grid.ipynb#6.-Change-factors-from-EMEP-data) calculates bias-corrected deposition for the 2030s by first deriving \"change factors\" between EMEP 2010 and EMEP 2030, and then applying these to BLR-based deposition data for 2007 to 2011. This procedure has been repeated for the 2020s too, and the estimated future deposition datasets are saved e.g. here\n",
    "\n",
    "    /home/jovyan/shared/critical_loads/raster/deposition/ndep_mgpm2pyr_pred2030_120m.tif"
   ]
  },
  {
   "cell_type": "markdown",
   "metadata": {},
   "source": [
    "## 2. Exceedances of critical loads for water\n",
    "\n",
    "Modify the options below to match the decade of interest. "
   ]
  },
  {
   "cell_type": "code",
   "execution_count": 3,
   "metadata": {},
   "outputs": [],
   "source": [
    "# Series ID. Use '58bc' for 2020s; '59bc' for 2030s. \n",
    "# Note that these are not 'real' series IDs in the db, but can be used here\n",
    "# as an identifier here nevertheless\n",
    "series_id = '58bc' \n",
    "\n",
    "# Short name used in deposition grid for decade of interest\n",
    "short_name = \"pred2020\" # Or 'pred2030'\n",
    "\n",
    "cell_size = 120\n",
    "base_path = r\"/home/jovyan/shared/critical_loads/raster\""
   ]
  },
  {
   "cell_type": "markdown",
   "metadata": {},
   "source": [
    "### 2.1. SSWC model"
   ]
  },
  {
   "cell_type": "code",
   "execution_count": 4,
   "metadata": {},
   "outputs": [
    {
     "name": "stdout",
     "output_type": "stream",
     "text": [
      "Exceedance grid saved to:\n",
      "    /home/jovyan/shared/critical_loads/raster/exceedance/sswc_ex_meqpm2pyr_pred2020_120m.tif\n"
     ]
    },
    {
     "data": {
      "text/html": [
       "<div>\n",
       "<style scoped>\n",
       "    .dataframe tbody tr th:only-of-type {\n",
       "        vertical-align: middle;\n",
       "    }\n",
       "\n",
       "    .dataframe tbody tr th {\n",
       "        vertical-align: top;\n",
       "    }\n",
       "\n",
       "    .dataframe thead th {\n",
       "        text-align: right;\n",
       "    }\n",
       "</style>\n",
       "<table border=\"1\" class=\"dataframe\">\n",
       "  <thead>\n",
       "    <tr style=\"text-align: right;\">\n",
       "      <th></th>\n",
       "      <th>series_id</th>\n",
       "      <th>medium</th>\n",
       "      <th>total_area_km2</th>\n",
       "      <th>exceeded_area_km2</th>\n",
       "      <th>exceeded_area_pct</th>\n",
       "    </tr>\n",
       "  </thead>\n",
       "  <tbody>\n",
       "    <tr>\n",
       "      <th>0</th>\n",
       "      <td>58bc</td>\n",
       "      <td>water_sswc</td>\n",
       "      <td>320584</td>\n",
       "      <td>14892</td>\n",
       "      <td>5</td>\n",
       "    </tr>\n",
       "  </tbody>\n",
       "</table>\n",
       "</div>"
      ],
      "text/plain": [
       "  series_id      medium  total_area_km2  exceeded_area_km2  exceeded_area_pct\n",
       "0      58bc  water_sswc          320584              14892                  5"
      ]
     },
     "execution_count": 4,
     "metadata": {},
     "output_type": "execute_result"
    }
   ],
   "source": [
    "ex_df = cl.calculate_water_exceedance_sswc(series_id, \"pred2020\", cell_size=120)\n",
    "ex_df"
   ]
  },
  {
   "cell_type": "markdown",
   "metadata": {},
   "source": [
    "### FAB model"
   ]
  },
  {
   "cell_type": "code",
   "execution_count": 5,
   "metadata": {},
   "outputs": [],
   "source": [
    "# Read CL arrays\n",
    "array_dict = {}\n",
    "for par in [\n",
    "    \"clminn_meqpm2pyr\",\n",
    "    \"clmaxnoaa_meqpm2pyr\",\n",
    "    \"clmins_meqpm2pyr\",\n",
    "    \"clmaxsoaa_meqpm2pyr\",\n",
    "]:\n",
    "    # Read tif\n",
    "    tif_path = os.path.join(base_path, \"water\", f\"{par}_{cell_size}m.tif\")\n",
    "    data, ndv, epsg, extent = nivapy.spatial.read_raster(tif_path)\n",
    "\n",
    "    # Set NDV\n",
    "    data[data == ndv] = np.nan\n",
    "\n",
    "    # Add to dict\n",
    "    array_dict[par] = data\n",
    "\n",
    "# Read dep arrays\n",
    "for par in [\"ndep_mgpm2pyr\", \"sdep_mgpm2pyr\"]:\n",
    "    # Read tif\n",
    "    tif_path = os.path.join(\n",
    "        base_path, \"deposition\", f\"{par}_{short_name}_{cell_size}m.tif\"\n",
    "    )\n",
    "    data, ndv, epsg, extent = nivapy.spatial.read_raster(tif_path)\n",
    "    data = data.astype(np.float32)\n",
    "\n",
    "    # Set NDV\n",
    "    data[data == ndv] = np.nan\n",
    "\n",
    "    # Add to dict\n",
    "    array_dict[par] = data"
   ]
  },
  {
   "cell_type": "code",
   "execution_count": 6,
   "metadata": {},
   "outputs": [
    {
     "name": "stdout",
     "output_type": "stream",
     "text": [
      "CPU times: user 11 s, sys: 4.98 s, total: 16 s\n",
      "Wall time: 16 s\n"
     ]
    },
    {
     "data": {
      "text/html": [
       "<div>\n",
       "<style scoped>\n",
       "    .dataframe tbody tr th:only-of-type {\n",
       "        vertical-align: middle;\n",
       "    }\n",
       "\n",
       "    .dataframe tbody tr th {\n",
       "        vertical-align: top;\n",
       "    }\n",
       "\n",
       "    .dataframe thead th {\n",
       "        text-align: right;\n",
       "    }\n",
       "</style>\n",
       "<table border=\"1\" class=\"dataframe\">\n",
       "  <thead>\n",
       "    <tr style=\"text-align: right;\">\n",
       "      <th></th>\n",
       "      <th>series_id</th>\n",
       "      <th>medium</th>\n",
       "      <th>total_area_km2</th>\n",
       "      <th>exceeded_area_km2</th>\n",
       "      <th>exceeded_area_pct</th>\n",
       "    </tr>\n",
       "  </thead>\n",
       "  <tbody>\n",
       "    <tr>\n",
       "      <th>0</th>\n",
       "      <td>58bc</td>\n",
       "      <td>water_fab</td>\n",
       "      <td>320584</td>\n",
       "      <td>40950</td>\n",
       "      <td>13</td>\n",
       "    </tr>\n",
       "  </tbody>\n",
       "</table>\n",
       "</div>"
      ],
      "text/plain": [
       "  series_id     medium  total_area_km2  exceeded_area_km2  exceeded_area_pct\n",
       "0      58bc  water_fab          320584              40950                 13"
      ]
     },
     "execution_count": 6,
     "metadata": {},
     "output_type": "execute_result"
    }
   ],
   "source": [
    "%%time\n",
    "# Extract arrays from dict\n",
    "cln_min = array_dict[\"clminn_meqpm2pyr\"]\n",
    "cln_max = array_dict[\"clmaxnoaa_meqpm2pyr\"]\n",
    "cls_min = array_dict[\"clmins_meqpm2pyr\"]\n",
    "cls_max = array_dict[\"clmaxsoaa_meqpm2pyr\"]\n",
    "dep_n = array_dict[\"ndep_mgpm2pyr\"] / 14  # Convert to meq\n",
    "dep_s = array_dict[\"sdep_mgpm2pyr\"] * 2 / 32.06  # Convert to meq\n",
    "\n",
    "# Estimate exceedances\n",
    "ex_n, ex_s, reg_id = cl.vectorised_exceed_ns_icpm(\n",
    "    cln_min, cln_max, cls_min, cls_max, dep_n, dep_s\n",
    ")\n",
    "\n",
    "# Get exceeded area\n",
    "ex = ex_n + ex_s\n",
    "ex_area = np.count_nonzero(ex > 0) * cell_size * cell_size / 1.0e6\n",
    "nor_area = np.count_nonzero(~np.isnan(dep_s)) * cell_size * cell_size / 1.0e6\n",
    "ex_pct = 100 * ex_area / nor_area\n",
    "\n",
    "# Build df and tidy\n",
    "ex_df = pd.DataFrame(\n",
    "    {\n",
    "        \"exceeded_area_km2\": ex_area,\n",
    "        \"total_area_km2\": nor_area,\n",
    "        \"exceeded_area_pct\": ex_pct,\n",
    "    },\n",
    "    index=[0],\n",
    ")\n",
    "\n",
    "ex_df = ex_df.round(0).astype(int)\n",
    "ex_df[\"series_id\"] = series_id\n",
    "ex_df[\"medium\"] = \"water_fab\"\n",
    "\n",
    "ex_df = ex_df[\n",
    "    [\"series_id\", \"medium\", \"total_area_km2\", \"exceeded_area_km2\", \"exceeded_area_pct\"]\n",
    "]\n",
    "\n",
    "ex_df"
   ]
  },
  {
   "cell_type": "code",
   "execution_count": 7,
   "metadata": {},
   "outputs": [],
   "source": [
    "# Snap tiff\n",
    "snap_tif = f\"/home/jovyan/shared/critical_loads/raster/blr_land_mask_{cell_size}m.tif\"\n",
    "\n",
    "# N\n",
    "n_tif = f\"/home/jovyan/shared/critical_loads/raster/exceedance/fab_exn_meqpm2pyr_{short_name}_{cell_size}m.tif\"\n",
    "cl.write_geotiff(ex_n, n_tif, snap_tif, -1, gdal.GDT_Float32)\n",
    "\n",
    "# S\n",
    "s_tif = f\"/home/jovyan/shared/critical_loads/raster/exceedance/fab_exs_meqpm2pyr_{short_name}_{cell_size}m.tif\"\n",
    "cl.write_geotiff(ex_s, s_tif, snap_tif, -1, gdal.GDT_Float32)\n",
    "\n",
    "# N+S\n",
    "ns_tif = f\"/home/jovyan/shared/critical_loads/raster/exceedance/fab_exns_meqpm2pyr_{short_name}_{cell_size}m.tif\"\n",
    "cl.write_geotiff(ex_n + ex_s, ns_tif, snap_tif, -1, gdal.GDT_Float32)\n",
    "\n",
    "# Exceedance 'region'\n",
    "reg_tif = f\"/home/jovyan/shared/critical_loads/raster/exceedance/fab_ex_reg_id_{short_name}_{cell_size}m.tif\"\n",
    "cl.write_geotiff(reg_id, reg_tif, snap_tif, -1, gdal.GDT_Float32)"
   ]
  }
 ],
 "metadata": {
  "kernelspec": {
   "display_name": "Python 3",
   "language": "python",
   "name": "python3"
  },
  "language_info": {
   "codemirror_mode": {
    "name": "ipython",
    "version": 3
   },
   "file_extension": ".py",
   "mimetype": "text/x-python",
   "name": "python",
   "nbconvert_exporter": "python",
   "pygments_lexer": "ipython3",
   "version": "3.8.5"
  }
 },
 "nbformat": 4,
 "nbformat_minor": 4
}
