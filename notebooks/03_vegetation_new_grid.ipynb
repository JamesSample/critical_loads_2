{
 "cells": [
  {
   "cell_type": "code",
   "execution_count": 1,
   "metadata": {},
   "outputs": [],
   "source": [
    "%matplotlib inline\n",
    "import nivapy3 as nivapy\n",
    "import pandas as pd\n",
    "import geopandas as gpd\n",
    "import matplotlib.pyplot as plt\n",
    "import critical_loads as cl\n",
    "import warnings\n",
    "\n",
    "warnings.simplefilter('ignore')\n",
    "plt.style.use('ggplot')"
   ]
  },
  {
   "cell_type": "code",
   "execution_count": 2,
   "metadata": {},
   "outputs": [
    {
     "name": "stdout",
     "output_type": "stream",
     "text": [
      "Connection successful.\n"
     ]
    }
   ],
   "source": [
    "# Connect to PostGIS\n",
    "eng = nivapy.da.connect_postgis(database='critical_loads')"
   ]
  },
  {
   "cell_type": "markdown",
   "metadata": {},
   "source": [
    "# Critical loads: Vegetation workflow (high-resolution method; 2018 onwards)\n",
    "\n",
    "In Spring 2018, the worflow for calculating critical loads was refined to make use of new, higher-resolution input datasets. During November 2018, data handling for the Critical Loads project was also redesigned, with the ultimate aim of centralising all key datasets on NIVA's new cloud platform. \n",
    "\n",
    "This notebook deals with data processing for the vegetation exceedance calculations, using the new 0.1 degree deposition grid and raster-based vegetation dataset. A brief description of the old vegetation datasets is also provided.\n",
    "\n",
    "**Note:** Deposition data supplied prior to 2017-18 use a different spatial grid (the \"BLR\" grid), and prior to 2012 a different (vector-based) vegetation dataset was also used. **The workflow here only applies to data supplied from 2017-18 onwards**; earlier data is *not* compatible with the calculations in this notebook. "
   ]
  },
  {
   "cell_type": "markdown",
   "metadata": {},
   "source": [
    "## 1. Organising vegetation data on the DSToolkit\n",
    "\n",
    "NIVA's JupyterHub includes a PostGIS database server capable of storing relational and vector geospatial datasets. I have created a database named `critical_loads` and, within this, a schema named `vegetation`. This schema contains the following tables:\n",
    "\n",
    " * **exceedance_stats_0_1deg_grid:** Non-spatial table containing the area and percent exceeded for each 0.1 degree grid cell\n",
    " \n",
    " * **exceedance_stats_blr_grid:** Non-spatial table containing the area and percent exceeded for each BLR grid cell\n",
    " \n",
    " * **exceedance_stats_land_class:** Non-spatial table containing the area and percent exceeded for each vegetation class in the raster vegetation dataset\n",
    " \n",
    " * **land_class_crit_lds:** Non-spatial table defining the critical loads for each vegetation class\n",
    " \n",
    " * **vector_veg_pre_2012:** The old vector vegetation dataset used prior to 2012"
   ]
  },
  {
   "cell_type": "markdown",
   "metadata": {},
   "source": [
    "## 2. Define data series and resolution of interest\n",
    "\n",
    "Choose the dataset you whish to work with (see notebook 01 for a list of available `series_ids`.\n",
    "\n",
    "**Note:** If you want to work with the 30 m resolution data, you will need to **log-in on one of the high memory machines**, as the grids involved are large."
   ]
  },
  {
   "cell_type": "code",
   "execution_count": 3,
   "metadata": {},
   "outputs": [],
   "source": [
    "# Series of interest\n",
    "ser_id = 28\n",
    "\n",
    "# Choose cell size (30m, 60m or 120m)\n",
    "cell_size = 120"
   ]
  },
  {
   "cell_type": "markdown",
   "metadata": {},
   "source": [
    "## 3. Create raster of critical loads for vegetation (optional)\n",
    "\n",
    "The code below reads the raster vegetation data and reclassifies it based on a table of critical loads. It is not necessary to re-run this step unless the critical loads for vegetation are changed. \n",
    "\n",
    "**Note:** The function `cl.reclassify_raster()` requires specification of a `mask_tif` to define the land. This is because the vegetation data includes offshore regions classified as `'water'`, and we do not wish to include these in the CL calculations. The `shared` drive includes three possible mask grids (30 m, 60 m and 120 m), all based on the extent of the old BLR grid."
   ]
  },
  {
   "cell_type": "markdown",
   "metadata": {},
   "source": [
    "### 3.1. Extract table of critical loads (optional)"
   ]
  },
  {
   "cell_type": "code",
   "execution_count": 4,
   "metadata": {},
   "outputs": [],
   "source": [
    "## Read reclassification table from db\n",
    "#sql = (\"SELECT * FROM vegetation.land_class_crit_lds\")\n",
    "#rc_df = pd.read_sql(sql, eng)\n",
    "#\n",
    "## Set land class code as index\n",
    "#rc_df.index = rc_df['norut_code']\n",
    "#del rc_df['norut_code']\n",
    "#\n",
    "#rc_df"
   ]
  },
  {
   "cell_type": "markdown",
   "metadata": {},
   "source": [
    "### 3.2. Reclassify vegetation dataset (optional)"
   ]
  },
  {
   "cell_type": "code",
   "execution_count": 5,
   "metadata": {},
   "outputs": [],
   "source": [
    "## Reclassify\n",
    "#mask_tif = f'/home/jovyan/shared/critical_loads/raster/blr_land_mask_{cell_size}m.tif'\n",
    "#veg_tif = f'/home/jovyan/shared/critical_loads/raster/sat_veg_{cell_size}m_norut.tif'\n",
    "#rc_tif = f'/home/jovyan/shared/critical_loads/raster/sat_veg_{cell_size}m_cl_100smgn_m2_yr.tif'\n",
    "#cl.reclassify_raster(veg_tif,\n",
    "#                     mask_tif,\n",
    "#                     rc_tif,\n",
    "#                     rc_df,\n",
    "#                     'cl_100smgn_m2_yr',\n",
    "#                     255)"
   ]
  },
  {
   "cell_type": "markdown",
   "metadata": {},
   "source": [
    "## 4. Exceedances for vegetation\n",
    "\n",
    "Exceedances for vegatation are calculated as follows:\n",
    "\n",
    " 1. Read the raster of N deposition, which must already exist with the same properties (extent, cell size etc.) as the critical loads grid of interest here - see notebook 01\n",
    " \n",
    " 2. Calculate the exceedance for each pixel, $i$, as $E_i = D_i - C_i$ (where $E$ is exceedance, $D$ is deposition and $C$ is the critical load)\n",
    " \n",
    " 3. Save the exceedance grid as a GeoTiff. Calculate the total exceeded area for Norway as a whole, the proportion exceeded for each land class, and the proportion exceeded in each 0.1 degree vector cell\n",
    " \n",
    " 4. Write summary results back to the database"
   ]
  },
  {
   "cell_type": "code",
   "execution_count": 6,
   "metadata": {},
   "outputs": [],
   "source": [
    "# CL raster (created in Section 3.2)\n",
    "cl_tif = f'/home/jovyan/shared/critical_loads/raster/sat_veg_{cell_size}m_cl_100smgn_m2_yr.tif'\n",
    "\n",
    "# N deposition raster (created in notebook 01)\n",
    "ndep_tif = f'/home/jovyan/shared/critical_loads/raster/deposition/ndep_mgpm2pyr_1216_{cell_size}m.tif'\n",
    "\n",
    "# Output exceedance .tifs to create\n",
    "ex_tif = f'/home/jovyan/shared/critical_loads/raster/exceedance/veg_ex_mgpm2pyr_1216_{cell_size}m.tif'\n",
    "ex_tif_bool = f'/home/jovyan/shared/critical_loads/raster/exceedance/veg_ex_1216_{cell_size}m_bool.tif'"
   ]
  },
  {
   "cell_type": "code",
   "execution_count": 7,
   "metadata": {},
   "outputs": [
    {
     "name": "stdout",
     "output_type": "stream",
     "text": [
      "CPU times: user 4.75 s, sys: 1.9 s, total: 6.65 s\n",
      "Wall time: 7.1 s\n"
     ]
    },
    {
     "data": {
      "text/html": [
       "<div>\n",
       "<style scoped>\n",
       "    .dataframe tbody tr th:only-of-type {\n",
       "        vertical-align: middle;\n",
       "    }\n",
       "\n",
       "    .dataframe tbody tr th {\n",
       "        vertical-align: top;\n",
       "    }\n",
       "\n",
       "    .dataframe thead th {\n",
       "        text-align: right;\n",
       "    }\n",
       "</style>\n",
       "<table border=\"1\" class=\"dataframe\">\n",
       "  <thead>\n",
       "    <tr style=\"text-align: right;\">\n",
       "      <th></th>\n",
       "      <th>series_id</th>\n",
       "      <th>medium</th>\n",
       "      <th>total_area_km2</th>\n",
       "      <th>exceeded_area_km2</th>\n",
       "      <th>exceeded_area_pct</th>\n",
       "    </tr>\n",
       "  </thead>\n",
       "  <tbody>\n",
       "    <tr>\n",
       "      <th>0</th>\n",
       "      <td>28</td>\n",
       "      <td>vegetation</td>\n",
       "      <td>322184</td>\n",
       "      <td>61732</td>\n",
       "      <td>19</td>\n",
       "    </tr>\n",
       "  </tbody>\n",
       "</table>\n",
       "</div>"
      ],
      "text/plain": [
       "   series_id      medium  total_area_km2  exceeded_area_km2  exceeded_area_pct\n",
       "0         28  vegetation          322184              61732                 19"
      ]
     },
     "execution_count": 7,
     "metadata": {},
     "output_type": "execute_result"
    }
   ],
   "source": [
    "%%time\n",
    "\n",
    "# Calculate exceedance\n",
    "ex_df = cl.calc_vegetation_exceedance(ndep_tif, cl_tif, ex_tif, ex_tif_bool, ser_id)\n",
    "ex_df"
   ]
  },
  {
   "cell_type": "markdown",
   "metadata": {},
   "source": [
    "**If you connected to the database with `admin=True`**, these results can be saved back to the database."
   ]
  },
  {
   "cell_type": "code",
   "execution_count": 8,
   "metadata": {},
   "outputs": [],
   "source": [
    "## Write summary data to db\n",
    "#ex_df.to_sql('national_summary', \n",
    "#             eng,\n",
    "#             'summaries',\n",
    "#             if_exists='append',\n",
    "#             index=False)"
   ]
  },
  {
   "cell_type": "markdown",
   "metadata": {},
   "source": [
    "## 5. Zonal statistics\n",
    "\n",
    "To save results from the cells below, **you must be connected to the database with `admin=True`**. Otherwise, set `write_to_db=False` to read simply read the data."
   ]
  },
  {
   "cell_type": "markdown",
   "metadata": {},
   "source": [
    "### 5.1. Exceedance per 0.1 degree grid cell\n",
    "\n",
    "The code below calculates exceedance summary statistics for each 0.1 degree grid cell."
   ]
  },
  {
   "cell_type": "code",
   "execution_count": 9,
   "metadata": {},
   "outputs": [
    {
     "name": "stdout",
     "output_type": "stream",
     "text": [
      "WARNING: The specified series ID does NOT refer to the EMEP grid. The 'veg_class' parameter will be ignored.\n"
     ]
    },
    {
     "data": {
      "text/html": [
       "<div>\n",
       "<style scoped>\n",
       "    .dataframe tbody tr th:only-of-type {\n",
       "        vertical-align: middle;\n",
       "    }\n",
       "\n",
       "    .dataframe tbody tr th {\n",
       "        vertical-align: top;\n",
       "    }\n",
       "\n",
       "    .dataframe thead th {\n",
       "        text-align: right;\n",
       "    }\n",
       "</style>\n",
       "<table border=\"1\" class=\"dataframe\">\n",
       "  <thead>\n",
       "    <tr style=\"text-align: right;\">\n",
       "      <th></th>\n",
       "      <th>geom</th>\n",
       "      <th>cell_id</th>\n",
       "      <th>series_id</th>\n",
       "      <th>exceeded_area_km2</th>\n",
       "      <th>total_area_km2</th>\n",
       "      <th>pct_exceeded</th>\n",
       "    </tr>\n",
       "  </thead>\n",
       "  <tbody>\n",
       "    <tr>\n",
       "      <th>0</th>\n",
       "      <td>MULTIPOLYGON (((5655.001 6470694.353, 5514.139...</td>\n",
       "      <td>58050655</td>\n",
       "      <td>28</td>\n",
       "      <td>0.1584</td>\n",
       "      <td>0.5328</td>\n",
       "      <td>29.729730</td>\n",
       "    </tr>\n",
       "    <tr>\n",
       "      <th>1</th>\n",
       "      <td>MULTIPOLYGON (((9788.009 6465964.999, 9428.009...</td>\n",
       "      <td>58050665</td>\n",
       "      <td>28</td>\n",
       "      <td>5.8032</td>\n",
       "      <td>14.2416</td>\n",
       "      <td>40.748231</td>\n",
       "    </tr>\n",
       "    <tr>\n",
       "      <th>2</th>\n",
       "      <td>MULTIPOLYGON (((17388.726 6469241.096, 17261.7...</td>\n",
       "      <td>58050675</td>\n",
       "      <td>28</td>\n",
       "      <td>15.1488</td>\n",
       "      <td>19.1376</td>\n",
       "      <td>79.157261</td>\n",
       "    </tr>\n",
       "    <tr>\n",
       "      <th>3</th>\n",
       "      <td>MULTIPOLYGON (((22572.274 6462862.544, 22543.7...</td>\n",
       "      <td>58050685</td>\n",
       "      <td>28</td>\n",
       "      <td>9.4464</td>\n",
       "      <td>9.9360</td>\n",
       "      <td>95.072464</td>\n",
       "    </tr>\n",
       "    <tr>\n",
       "      <th>4</th>\n",
       "      <td>MULTIPOLYGON (((27984.320 6458257.535, 27885.2...</td>\n",
       "      <td>58050695</td>\n",
       "      <td>28</td>\n",
       "      <td>21.1968</td>\n",
       "      <td>21.8736</td>\n",
       "      <td>96.905859</td>\n",
       "    </tr>\n",
       "  </tbody>\n",
       "</table>\n",
       "</div>"
      ],
      "text/plain": [
       "                                                geom   cell_id  series_id  \\\n",
       "0  MULTIPOLYGON (((5655.001 6470694.353, 5514.139...  58050655         28   \n",
       "1  MULTIPOLYGON (((9788.009 6465964.999, 9428.009...  58050665         28   \n",
       "2  MULTIPOLYGON (((17388.726 6469241.096, 17261.7...  58050675         28   \n",
       "3  MULTIPOLYGON (((22572.274 6462862.544, 22543.7...  58050685         28   \n",
       "4  MULTIPOLYGON (((27984.320 6458257.535, 27885.2...  58050695         28   \n",
       "\n",
       "   exceeded_area_km2  total_area_km2  pct_exceeded  \n",
       "0             0.1584          0.5328     29.729730  \n",
       "1             5.8032         14.2416     40.748231  \n",
       "2            15.1488         19.1376     79.157261  \n",
       "3             9.4464          9.9360     95.072464  \n",
       "4            21.1968         21.8736     96.905859  "
      ]
     },
     "execution_count": 9,
     "metadata": {},
     "output_type": "execute_result"
    }
   ],
   "source": [
    "# Calculate zonal statistics\n",
    "gdf = cl.exceedance_stats_per_0_1deg_cell(ex_tif_bool, \n",
    "                                          ser_id, \n",
    "                                          eng, \n",
    "                                          categorical=True,\n",
    "                                          category_map={1:'exceeded',\n",
    "                                                        0:'not_exceeded'},\n",
    "                                          nodata_value=255,\n",
    "                                          write_to_db=False,\n",
    "                                         )\n",
    "\n",
    "gdf.head()"
   ]
  },
  {
   "cell_type": "markdown",
   "metadata": {},
   "source": [
    "### 5.2. Exceedance per land use class"
   ]
  },
  {
   "cell_type": "code",
   "execution_count": 10,
   "metadata": {},
   "outputs": [
    {
     "data": {
      "text/html": [
       "<div>\n",
       "<style scoped>\n",
       "    .dataframe tbody tr th:only-of-type {\n",
       "        vertical-align: middle;\n",
       "    }\n",
       "\n",
       "    .dataframe tbody tr th {\n",
       "        vertical-align: top;\n",
       "    }\n",
       "\n",
       "    .dataframe thead th {\n",
       "        text-align: right;\n",
       "    }\n",
       "</style>\n",
       "<table border=\"1\" class=\"dataframe\">\n",
       "  <thead>\n",
       "    <tr style=\"text-align: right;\">\n",
       "      <th></th>\n",
       "      <th>norut_code</th>\n",
       "      <th>series_id</th>\n",
       "      <th>exceeded_area_km2</th>\n",
       "      <th>total_area_km2</th>\n",
       "      <th>pct_exceeded</th>\n",
       "    </tr>\n",
       "  </thead>\n",
       "  <tbody>\n",
       "    <tr>\n",
       "      <th>0</th>\n",
       "      <td>1</td>\n",
       "      <td>28</td>\n",
       "      <td>11642.8752</td>\n",
       "      <td>28658.8080</td>\n",
       "      <td>40.625818</td>\n",
       "    </tr>\n",
       "    <tr>\n",
       "      <th>1</th>\n",
       "      <td>2</td>\n",
       "      <td>28</td>\n",
       "      <td>6830.9712</td>\n",
       "      <td>16555.4496</td>\n",
       "      <td>41.261164</td>\n",
       "    </tr>\n",
       "    <tr>\n",
       "      <th>2</th>\n",
       "      <td>3</td>\n",
       "      <td>28</td>\n",
       "      <td>4206.0384</td>\n",
       "      <td>11402.7408</td>\n",
       "      <td>36.886205</td>\n",
       "    </tr>\n",
       "    <tr>\n",
       "      <th>3</th>\n",
       "      <td>4</td>\n",
       "      <td>28</td>\n",
       "      <td>1522.3104</td>\n",
       "      <td>18083.4912</td>\n",
       "      <td>8.418233</td>\n",
       "    </tr>\n",
       "    <tr>\n",
       "      <th>4</th>\n",
       "      <td>5</td>\n",
       "      <td>28</td>\n",
       "      <td>1176.5808</td>\n",
       "      <td>17783.9568</td>\n",
       "      <td>6.615967</td>\n",
       "    </tr>\n",
       "    <tr>\n",
       "      <th>5</th>\n",
       "      <td>6</td>\n",
       "      <td>28</td>\n",
       "      <td>3722.4720</td>\n",
       "      <td>14839.0848</td>\n",
       "      <td>25.085590</td>\n",
       "    </tr>\n",
       "    <tr>\n",
       "      <th>6</th>\n",
       "      <td>7</td>\n",
       "      <td>28</td>\n",
       "      <td>1741.5360</td>\n",
       "      <td>9021.6432</td>\n",
       "      <td>19.303978</td>\n",
       "    </tr>\n",
       "    <tr>\n",
       "      <th>7</th>\n",
       "      <td>8</td>\n",
       "      <td>28</td>\n",
       "      <td>1265.6160</td>\n",
       "      <td>6777.0720</td>\n",
       "      <td>18.674968</td>\n",
       "    </tr>\n",
       "    <tr>\n",
       "      <th>8</th>\n",
       "      <td>9</td>\n",
       "      <td>28</td>\n",
       "      <td>1408.0464</td>\n",
       "      <td>7998.2640</td>\n",
       "      <td>17.604400</td>\n",
       "    </tr>\n",
       "    <tr>\n",
       "      <th>9</th>\n",
       "      <td>10</td>\n",
       "      <td>28</td>\n",
       "      <td>222.0624</td>\n",
       "      <td>5938.5456</td>\n",
       "      <td>3.739340</td>\n",
       "    </tr>\n",
       "    <tr>\n",
       "      <th>10</th>\n",
       "      <td>11</td>\n",
       "      <td>28</td>\n",
       "      <td>229.9392</td>\n",
       "      <td>4870.2240</td>\n",
       "      <td>4.721327</td>\n",
       "    </tr>\n",
       "    <tr>\n",
       "      <th>11</th>\n",
       "      <td>12</td>\n",
       "      <td>28</td>\n",
       "      <td>1630.3680</td>\n",
       "      <td>11525.0544</td>\n",
       "      <td>14.146293</td>\n",
       "    </tr>\n",
       "    <tr>\n",
       "      <th>12</th>\n",
       "      <td>13</td>\n",
       "      <td>28</td>\n",
       "      <td>1636.2720</td>\n",
       "      <td>8331.2208</td>\n",
       "      <td>19.640243</td>\n",
       "    </tr>\n",
       "    <tr>\n",
       "      <th>13</th>\n",
       "      <td>14</td>\n",
       "      <td>28</td>\n",
       "      <td>2612.1888</td>\n",
       "      <td>17158.3200</td>\n",
       "      <td>15.224036</td>\n",
       "    </tr>\n",
       "    <tr>\n",
       "      <th>14</th>\n",
       "      <td>15</td>\n",
       "      <td>28</td>\n",
       "      <td>2552.5008</td>\n",
       "      <td>15610.3200</td>\n",
       "      <td>16.351368</td>\n",
       "    </tr>\n",
       "    <tr>\n",
       "      <th>15</th>\n",
       "      <td>16</td>\n",
       "      <td>28</td>\n",
       "      <td>4123.6992</td>\n",
       "      <td>22720.4496</td>\n",
       "      <td>18.149725</td>\n",
       "    </tr>\n",
       "    <tr>\n",
       "      <th>16</th>\n",
       "      <td>17</td>\n",
       "      <td>28</td>\n",
       "      <td>1389.5856</td>\n",
       "      <td>28986.4368</td>\n",
       "      <td>4.793917</td>\n",
       "    </tr>\n",
       "    <tr>\n",
       "      <th>17</th>\n",
       "      <td>18</td>\n",
       "      <td>28</td>\n",
       "      <td>520.5312</td>\n",
       "      <td>14662.3392</td>\n",
       "      <td>3.550124</td>\n",
       "    </tr>\n",
       "    <tr>\n",
       "      <th>18</th>\n",
       "      <td>19</td>\n",
       "      <td>28</td>\n",
       "      <td>1529.5392</td>\n",
       "      <td>9486.4320</td>\n",
       "      <td>16.123440</td>\n",
       "    </tr>\n",
       "    <tr>\n",
       "      <th>19</th>\n",
       "      <td>20</td>\n",
       "      <td>28</td>\n",
       "      <td>1827.2304</td>\n",
       "      <td>15170.1552</td>\n",
       "      <td>12.044902</td>\n",
       "    </tr>\n",
       "    <tr>\n",
       "      <th>20</th>\n",
       "      <td>21</td>\n",
       "      <td>28</td>\n",
       "      <td>1152.8352</td>\n",
       "      <td>9346.6800</td>\n",
       "      <td>12.334168</td>\n",
       "    </tr>\n",
       "    <tr>\n",
       "      <th>24</th>\n",
       "      <td>23</td>\n",
       "      <td>28</td>\n",
       "      <td>30.8016</td>\n",
       "      <td>6750.0000</td>\n",
       "      <td>0.456320</td>\n",
       "    </tr>\n",
       "    <tr>\n",
       "      <th>25</th>\n",
       "      <td>24</td>\n",
       "      <td>28</td>\n",
       "      <td>0.9504</td>\n",
       "      <td>1645.8912</td>\n",
       "      <td>0.057744</td>\n",
       "    </tr>\n",
       "    <tr>\n",
       "      <th>26</th>\n",
       "      <td>25</td>\n",
       "      <td>28</td>\n",
       "      <td>130.7520</td>\n",
       "      <td>1219.7088</td>\n",
       "      <td>10.719936</td>\n",
       "    </tr>\n",
       "  </tbody>\n",
       "</table>\n",
       "</div>"
      ],
      "text/plain": [
       "    norut_code  series_id  exceeded_area_km2  total_area_km2  pct_exceeded\n",
       "0            1         28         11642.8752      28658.8080     40.625818\n",
       "1            2         28          6830.9712      16555.4496     41.261164\n",
       "2            3         28          4206.0384      11402.7408     36.886205\n",
       "3            4         28          1522.3104      18083.4912      8.418233\n",
       "4            5         28          1176.5808      17783.9568      6.615967\n",
       "5            6         28          3722.4720      14839.0848     25.085590\n",
       "6            7         28          1741.5360       9021.6432     19.303978\n",
       "7            8         28          1265.6160       6777.0720     18.674968\n",
       "8            9         28          1408.0464       7998.2640     17.604400\n",
       "9           10         28           222.0624       5938.5456      3.739340\n",
       "10          11         28           229.9392       4870.2240      4.721327\n",
       "11          12         28          1630.3680      11525.0544     14.146293\n",
       "12          13         28          1636.2720       8331.2208     19.640243\n",
       "13          14         28          2612.1888      17158.3200     15.224036\n",
       "14          15         28          2552.5008      15610.3200     16.351368\n",
       "15          16         28          4123.6992      22720.4496     18.149725\n",
       "16          17         28          1389.5856      28986.4368      4.793917\n",
       "17          18         28           520.5312      14662.3392      3.550124\n",
       "18          19         28          1529.5392       9486.4320     16.123440\n",
       "19          20         28          1827.2304      15170.1552     12.044902\n",
       "20          21         28          1152.8352       9346.6800     12.334168\n",
       "24          23         28            30.8016       6750.0000      0.456320\n",
       "25          24         28             0.9504       1645.8912      0.057744\n",
       "26          25         28           130.7520       1219.7088     10.719936"
      ]
     },
     "execution_count": 10,
     "metadata": {},
     "output_type": "execute_result"
    }
   ],
   "source": [
    "# Calc exceedance per land cover class\n",
    "veg_tif = f'/home/jovyan/shared/critical_loads/raster/sat_veg_{cell_size}m_norut.tif'\n",
    "df = cl.exceedance_stats_per_land_use_class(ex_tif_bool, \n",
    "                                            veg_tif, \n",
    "                                            ser_id,\n",
    "                                            eng,\n",
    "                                            nodata_value=255,\n",
    "                                            write_to_db=False,\n",
    "                                           )\n",
    "\n",
    "df"
   ]
  },
  {
   "cell_type": "markdown",
   "metadata": {},
   "source": [
    "### 5.3. Map exceedance per 0.1 degree grid square"
   ]
  },
  {
   "cell_type": "code",
   "execution_count": 11,
   "metadata": {},
   "outputs": [
    {
     "data": {
      "image/png": "[encoded data removed]",
      "text/plain": [
       "<Figure size 800x800 with 1 Axes>"
      ]
     },
     "metadata": {},
     "output_type": "display_data"
    }
   ],
   "source": [
    "# Extract exceedance summaries\n",
    "ex_gdf = cl.veg_exceedance_as_gdf_0_1deg(ser_id, eng)\n",
    "\n",
    "# Choropleth map\n",
    "ex_gdf.plot(column='pct_exceeded', \n",
    "            cmap='coolwarm',\n",
    "            scheme='fisher_jenks',\n",
    "            edgecolor=None,\n",
    "            legend=True,\n",
    "            legend_kwds={'loc':   'upper left',\n",
    "                         'title': 'Vegetation exceedance (%)'},\n",
    "            figsize=(8,8))\n",
    "\n",
    "plt.axis('off')\n",
    "plt.tight_layout()"
   ]
  }
 ],
 "metadata": {
  "kernelspec": {
   "display_name": "Python 3 (ipykernel)",
   "language": "python",
   "name": "python3"
  },
  "language_info": {
   "codemirror_mode": {
    "name": "ipython",
    "version": 3
   },
   "file_extension": ".py",
   "mimetype": "text/x-python",
   "name": "python",
   "nbconvert_exporter": "python",
   "pygments_lexer": "ipython3",
   "version": "3.10.6"
  }
 },
 "nbformat": 4,
 "nbformat_minor": 4
}
