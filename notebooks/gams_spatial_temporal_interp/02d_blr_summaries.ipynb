{
 "cells": [
  {
   "cell_type": "code",
   "execution_count": 1,
   "id": "b3f1a986-528e-495a-ac79-d8f40c08c390",
   "metadata": {},
   "outputs": [],
   "source": [
    "import os\n",
    "\n",
    "import geopandas as gpd\n",
    "import matplotlib.pyplot as plt\n",
    "import nivapy3 as nivapy\n",
    "import numpy as np\n",
    "import pandas as pd\n",
    "import rioxarray as rio\n",
    "import xarray as xr\n",
    "from rasterstats import zonal_stats\n",
    "\n",
    "plt.style.use(\"ggplot\")"
   ]
  },
  {
   "cell_type": "markdown",
   "id": "2f5b4165-8953-4ac4-a4fb-d1367360daa2",
   "metadata": {},
   "source": [
    "# Updating critical loads for water\n",
    "\n",
    "## Part D: Summaries per BLR\n",
    "\n",
    "This notebook summarises the updated water chemistry for each BLR grid cell and also calculates some other spatial statistics needed for the critical loads calculations.\n",
    "\n",
    "#### Note\n",
    "\n",
    "I have some doubts regarding the quality of the GAMs generated in Part B. In particular, although the model diagnostics are not too bad, it looks to me as though the models might be overfitting the data - especially the one for nitrate. It is also possible that some of the data used for temporal trends is misleading: it seems that the \"tidstrendsjøer\" are not easily available via Aquamonitor and the 78 sites I am currently using are not exactly the same as the 78 in RESA. **I will leave this for now, but we might need to revisit these issues later and re-run**."
   ]
  },
  {
   "cell_type": "code",
   "execution_count": 2,
   "id": "85531343-2e92-47b9-9be7-d32bdf66549e",
   "metadata": {},
   "outputs": [
    {
     "name": "stdout",
     "output_type": "stream",
     "text": [
      "Connection successful.\n",
      "Connection successful.\n"
     ]
    }
   ],
   "source": [
    "cl_eng = nivapy.da.connect_postgis(database=\"critical_loads\")\n",
    "eng = nivapy.da.connect_postgis()"
   ]
  },
  {
   "cell_type": "code",
   "execution_count": 3,
   "id": "10619104-19e5-41ea-bed3-d5548c6af9a1",
   "metadata": {},
   "outputs": [
    {
     "data": {
      "text/html": [
       "<div>\n",
       "<style scoped>\n",
       "    .dataframe tbody tr th:only-of-type {\n",
       "        vertical-align: middle;\n",
       "    }\n",
       "\n",
       "    .dataframe tbody tr th {\n",
       "        vertical-align: top;\n",
       "    }\n",
       "\n",
       "    .dataframe thead th {\n",
       "        text-align: right;\n",
       "    }\n",
       "</style>\n",
       "<table border=\"1\" class=\"dataframe\">\n",
       "  <thead>\n",
       "    <tr style=\"text-align: right;\">\n",
       "      <th></th>\n",
       "      <th>cell_id</th>\n",
       "      <th>geom</th>\n",
       "    </tr>\n",
       "  </thead>\n",
       "  <tbody>\n",
       "    <tr>\n",
       "      <th>0</th>\n",
       "      <td>58005004</td>\n",
       "      <td>MULTIPOLYGON (((-25471.982 6514836.998, -25514...</td>\n",
       "    </tr>\n",
       "    <tr>\n",
       "      <th>1</th>\n",
       "      <td>58006001</td>\n",
       "      <td>MULTIPOLYGON (((-10886.678 6503779.108, -20006...</td>\n",
       "    </tr>\n",
       "    <tr>\n",
       "      <th>2</th>\n",
       "      <td>58006002</td>\n",
       "      <td>MULTIPOLYGON (((3660.479 6501900.217, -10886.6...</td>\n",
       "    </tr>\n",
       "    <tr>\n",
       "      <th>3</th>\n",
       "      <td>58006003</td>\n",
       "      <td>MULTIPOLYGON (((18211.985 6500076.038, 3660.47...</td>\n",
       "    </tr>\n",
       "    <tr>\n",
       "      <th>4</th>\n",
       "      <td>58006004</td>\n",
       "      <td>MULTIPOLYGON (((32767.708 6498306.548, 18211.9...</td>\n",
       "    </tr>\n",
       "  </tbody>\n",
       "</table>\n",
       "</div>"
      ],
      "text/plain": [
       "    cell_id                                               geom\n",
       "0  58005004  MULTIPOLYGON (((-25471.982 6514836.998, -25514...\n",
       "1  58006001  MULTIPOLYGON (((-10886.678 6503779.108, -20006...\n",
       "2  58006002  MULTIPOLYGON (((3660.479 6501900.217, -10886.6...\n",
       "3  58006003  MULTIPOLYGON (((18211.985 6500076.038, 3660.47...\n",
       "4  58006004  MULTIPOLYGON (((32767.708 6498306.548, 18211.9..."
      ]
     },
     "execution_count": 3,
     "metadata": {},
     "output_type": "execute_result"
    }
   ],
   "source": [
    "# Get BLRs\n",
    "blr_gdf = nivapy.da.read_postgis(\"deposition\", \"dep_grid_blr\", cl_eng).to_crs(\n",
    "    \"epsg:25833\"\n",
    ")\n",
    "blr_gdf = blr_gdf[[\"cell_id\", \"geom\"]]\n",
    "blr_gdf.head()"
   ]
  },
  {
   "cell_type": "code",
   "execution_count": 4,
   "id": "77ec938e-d783-42fd-89f9-1b4f3d33f976",
   "metadata": {},
   "outputs": [
    {
     "data": {
      "text/html": [
       "<div>\n",
       "<style scoped>\n",
       "    .dataframe tbody tr th:only-of-type {\n",
       "        vertical-align: middle;\n",
       "    }\n",
       "\n",
       "    .dataframe tbody tr th {\n",
       "        vertical-align: top;\n",
       "    }\n",
       "\n",
       "    .dataframe thead th {\n",
       "        text-align: right;\n",
       "    }\n",
       "</style>\n",
       "<table border=\"1\" class=\"dataframe\">\n",
       "  <thead>\n",
       "    <tr style=\"text-align: right;\">\n",
       "      <th></th>\n",
       "      <th>cell_id</th>\n",
       "      <th>geom</th>\n",
       "      <th>NO3_NO2_ugpl_orig</th>\n",
       "      <th>TOC_mgpl_orig</th>\n",
       "    </tr>\n",
       "  </thead>\n",
       "  <tbody>\n",
       "    <tr>\n",
       "      <th>0</th>\n",
       "      <td>58005004</td>\n",
       "      <td>MULTIPOLYGON (((-25471.982 6514836.998, -25514...</td>\n",
       "      <td>NaN</td>\n",
       "      <td>NaN</td>\n",
       "    </tr>\n",
       "    <tr>\n",
       "      <th>1</th>\n",
       "      <td>58006001</td>\n",
       "      <td>MULTIPOLYGON (((-10886.678 6503779.108, -20006...</td>\n",
       "      <td>365.0</td>\n",
       "      <td>0.4</td>\n",
       "    </tr>\n",
       "    <tr>\n",
       "      <th>2</th>\n",
       "      <td>58006002</td>\n",
       "      <td>MULTIPOLYGON (((3660.479 6501900.217, -10886.6...</td>\n",
       "      <td>215.0</td>\n",
       "      <td>0.8</td>\n",
       "    </tr>\n",
       "    <tr>\n",
       "      <th>3</th>\n",
       "      <td>58006003</td>\n",
       "      <td>MULTIPOLYGON (((18211.985 6500076.038, 3660.47...</td>\n",
       "      <td>200.0</td>\n",
       "      <td>0.6</td>\n",
       "    </tr>\n",
       "    <tr>\n",
       "      <th>4</th>\n",
       "      <td>58006004</td>\n",
       "      <td>MULTIPOLYGON (((32767.708 6498306.548, 18211.9...</td>\n",
       "      <td>300.0</td>\n",
       "      <td>0.8</td>\n",
       "    </tr>\n",
       "  </tbody>\n",
       "</table>\n",
       "</div>"
      ],
      "text/plain": [
       "    cell_id                                               geom  \\\n",
       "0  58005004  MULTIPOLYGON (((-25471.982 6514836.998, -25514...   \n",
       "1  58006001  MULTIPOLYGON (((-10886.678 6503779.108, -20006...   \n",
       "2  58006002  MULTIPOLYGON (((3660.479 6501900.217, -10886.6...   \n",
       "3  58006003  MULTIPOLYGON (((18211.985 6500076.038, 3660.47...   \n",
       "4  58006004  MULTIPOLYGON (((32767.708 6498306.548, 18211.9...   \n",
       "\n",
       "   NO3_NO2_ugpl_orig  TOC_mgpl_orig  \n",
       "0                NaN            NaN  \n",
       "1              365.0            0.4  \n",
       "2              215.0            0.8  \n",
       "3              200.0            0.6  \n",
       "4              300.0            0.8  "
      ]
     },
     "execution_count": 4,
     "metadata": {},
     "output_type": "execute_result"
    }
   ],
   "source": [
    "# Get original TOC and NO3 values from 1995\n",
    "par_df = pd.read_sql(\n",
    "    \"SELECT id as parameter_id, name, class FROM water.parameter_definitions\",\n",
    "    cl_eng,\n",
    ")\n",
    "req_df = pd.read_sql(\"SELECT * FROM water.blr_required_parameters\", cl_eng)\n",
    "req_df = pd.merge(req_df, par_df, how=\"left\", on=\"parameter_id\")\n",
    "del req_df[\"parameter_id\"], req_df[\"class\"]\n",
    "req_df = req_df.pivot(index=\"region_id\", columns=\"name\", values=\"value\")\n",
    "req_df.index.name = \"Region_id\"\n",
    "req_df.reset_index(inplace=True)\n",
    "req_df.columns.name = \"\"\n",
    "req_df = req_df[[\"Region_id\", \"NO3N\", \"TOC\"]]\n",
    "req_df.columns = [\"cell_id\", \"NO3_NO2_ugpl_orig\", \"TOC_mgpl_orig\"]\n",
    "\n",
    "blr_gdf = blr_gdf.merge(req_df, how=\"left\", on=\"cell_id\")\n",
    "blr_gdf.head()"
   ]
  },
  {
   "cell_type": "markdown",
   "id": "9f8c4392-5152-4d3f-a4b1-8c7b6bb426d5",
   "metadata": {},
   "source": [
    "## 1. TOC and NO3\n",
    "\n",
    "Using the statistically interpolated 1 km grids for TOC and NO3, the code below calculates average concentrations per BLR cell per year. For TOC we have only interpolated data for 2019, whereas for NO3 we have annual estimates for the period from 1990 to 2019."
   ]
  },
  {
   "cell_type": "code",
   "execution_count": 6,
   "id": "6897ab01-3e8a-4fbf-bef8-8ce64f459079",
   "metadata": {},
   "outputs": [
    {
     "ename": "KeyboardInterrupt",
     "evalue": "",
     "output_type": "error",
     "traceback": [
      "\u001b[0;31m---------------------------------------------------------------------------\u001b[0m",
      "\u001b[0;31mKeyboardInterrupt\u001b[0m                         Traceback (most recent call last)",
      "Cell \u001b[0;32mIn [6], line 28\u001b[0m\n\u001b[1;32m     24\u001b[0m                 ds \u001b[38;5;241m=\u001b[39m ds\u001b[38;5;241m.\u001b[39mrio\u001b[38;5;241m.\u001b[39mwrite_transform()\n\u001b[1;32m     25\u001b[0m                 ds[par]\u001b[38;5;241m.\u001b[39msel(year\u001b[38;5;241m=\u001b[39myear)\u001b[38;5;241m.\u001b[39mrio\u001b[38;5;241m.\u001b[39mto_raster(\u001b[38;5;124m\"\u001b[39m\u001b[38;5;124mtemp.tif\u001b[39m\u001b[38;5;124m\"\u001b[39m)\n\u001b[1;32m     27\u001b[0m             stats_df \u001b[38;5;241m=\u001b[39m pd\u001b[38;5;241m.\u001b[39mDataFrame(\n\u001b[0;32m---> 28\u001b[0m                 \u001b[43mzonal_stats\u001b[49m\u001b[43m(\u001b[49m\n\u001b[1;32m     29\u001b[0m \u001b[43m                    \u001b[49m\u001b[43mvectors\u001b[49m\u001b[38;5;241;43m=\u001b[39;49m\u001b[43mblr_gdf\u001b[49m\u001b[43m,\u001b[49m\n\u001b[1;32m     30\u001b[0m \u001b[43m                    \u001b[49m\u001b[43mraster\u001b[49m\u001b[38;5;241;43m=\u001b[39;49m\u001b[38;5;124;43m\"\u001b[39;49m\u001b[38;5;124;43mtemp.tif\u001b[39;49m\u001b[38;5;124;43m\"\u001b[39;49m\u001b[43m,\u001b[49m\n\u001b[1;32m     31\u001b[0m \u001b[43m                    \u001b[49m\u001b[43mstats\u001b[49m\u001b[38;5;241;43m=\u001b[39;49m\u001b[43mstats\u001b[49m\u001b[43m,\u001b[49m\n\u001b[1;32m     32\u001b[0m \u001b[43m                    \u001b[49m\u001b[43mall_touched\u001b[49m\u001b[38;5;241;43m=\u001b[39;49m\u001b[38;5;28;43;01mFalse\u001b[39;49;00m\u001b[43m,\u001b[49m\n\u001b[1;32m     33\u001b[0m \u001b[43m                \u001b[49m\u001b[43m)\u001b[49m\n\u001b[1;32m     34\u001b[0m             )\n\u001b[1;32m     35\u001b[0m             blr_gdf[\u001b[38;5;124mf\u001b[39m\u001b[38;5;124m\"\u001b[39m\u001b[38;5;132;01m{\u001b[39;00mpar\u001b[38;5;132;01m}\u001b[39;00m\u001b[38;5;124m_\u001b[39m\u001b[38;5;132;01m{\u001b[39;00myear\u001b[38;5;132;01m}\u001b[39;00m\u001b[38;5;124m\"\u001b[39m] \u001b[38;5;241m=\u001b[39m stats_df[\u001b[38;5;124m\"\u001b[39m\u001b[38;5;124mmean\u001b[39m\u001b[38;5;124m\"\u001b[39m]\n\u001b[1;32m     37\u001b[0m os\u001b[38;5;241m.\u001b[39mremove(\u001b[38;5;124m\"\u001b[39m\u001b[38;5;124mtemp.tif\u001b[39m\u001b[38;5;124m\"\u001b[39m)\n",
      "File \u001b[0;32m/opt/conda/lib/python3.10/site-packages/rasterstats/main.py:32\u001b[0m, in \u001b[0;36mzonal_stats\u001b[0;34m(*args, **kwargs)\u001b[0m\n\u001b[1;32m     24\u001b[0m \u001b[38;5;28;01mdef\u001b[39;00m \u001b[38;5;21mzonal_stats\u001b[39m(\u001b[38;5;241m*\u001b[39margs, \u001b[38;5;241m*\u001b[39m\u001b[38;5;241m*\u001b[39mkwargs):\n\u001b[1;32m     25\u001b[0m     \u001b[38;5;124;03m\"\"\"The primary zonal statistics entry point.\u001b[39;00m\n\u001b[1;32m     26\u001b[0m \n\u001b[1;32m     27\u001b[0m \u001b[38;5;124;03m    All arguments are passed directly to ``gen_zonal_stats``.\u001b[39;00m\n\u001b[0;32m   (...)\u001b[0m\n\u001b[1;32m     30\u001b[0m \u001b[38;5;124;03m    The only difference is that ``zonal_stats`` will\u001b[39;00m\n\u001b[1;32m     31\u001b[0m \u001b[38;5;124;03m    return a list rather than a generator.\"\"\"\u001b[39;00m\n\u001b[0;32m---> 32\u001b[0m     \u001b[38;5;28;01mreturn\u001b[39;00m \u001b[38;5;28;43mlist\u001b[39;49m\u001b[43m(\u001b[49m\u001b[43mgen_zonal_stats\u001b[49m\u001b[43m(\u001b[49m\u001b[38;5;241;43m*\u001b[39;49m\u001b[43margs\u001b[49m\u001b[43m,\u001b[49m\u001b[43m \u001b[49m\u001b[38;5;241;43m*\u001b[39;49m\u001b[38;5;241;43m*\u001b[39;49m\u001b[43mkwargs\u001b[49m\u001b[43m)\u001b[49m\u001b[43m)\u001b[49m\n",
      "File \u001b[0;32m/opt/conda/lib/python3.10/site-packages/rasterstats/main.py:161\u001b[0m, in \u001b[0;36mgen_zonal_stats\u001b[0;34m(vectors, raster, layer, band, nodata, affine, stats, all_touched, categorical, category_map, add_stats, zone_func, raster_out, prefix, geojson_out, boundless, **kwargs)\u001b[0m\n\u001b[1;32m    157\u001b[0m     geom \u001b[38;5;241m=\u001b[39m boxify_points(geom, rast)\n\u001b[1;32m    159\u001b[0m geom_bounds \u001b[38;5;241m=\u001b[39m \u001b[38;5;28mtuple\u001b[39m(geom\u001b[38;5;241m.\u001b[39mbounds)\n\u001b[0;32m--> 161\u001b[0m fsrc \u001b[38;5;241m=\u001b[39m \u001b[43mrast\u001b[49m\u001b[38;5;241;43m.\u001b[39;49m\u001b[43mread\u001b[49m\u001b[43m(\u001b[49m\u001b[43mbounds\u001b[49m\u001b[38;5;241;43m=\u001b[39;49m\u001b[43mgeom_bounds\u001b[49m\u001b[43m,\u001b[49m\u001b[43m \u001b[49m\u001b[43mboundless\u001b[49m\u001b[38;5;241;43m=\u001b[39;49m\u001b[43mboundless\u001b[49m\u001b[43m)\u001b[49m\n\u001b[1;32m    163\u001b[0m \u001b[38;5;66;03m# rasterized geometry\u001b[39;00m\n\u001b[1;32m    164\u001b[0m rv_array \u001b[38;5;241m=\u001b[39m rasterize_geom(geom, like\u001b[38;5;241m=\u001b[39mfsrc, all_touched\u001b[38;5;241m=\u001b[39mall_touched)\n",
      "File \u001b[0;32m/opt/conda/lib/python3.10/site-packages/rasterstats/io.py:326\u001b[0m, in \u001b[0;36mRaster.read\u001b[0;34m(self, bounds, window, masked, boundless)\u001b[0m\n\u001b[1;32m    323\u001b[0m             masked \u001b[38;5;241m=\u001b[39m \u001b[38;5;28;01mTrue\u001b[39;00m\n\u001b[1;32m    324\u001b[0m             warnings\u001b[38;5;241m.\u001b[39mwarn(\u001b[38;5;124m\"\u001b[39m\u001b[38;5;124mSetting masked to True because dataset mask has been detected\u001b[39m\u001b[38;5;124m\"\u001b[39m)\n\u001b[0;32m--> 326\u001b[0m     new_array \u001b[38;5;241m=\u001b[39m \u001b[38;5;28;43mself\u001b[39;49m\u001b[38;5;241;43m.\u001b[39;49m\u001b[43msrc\u001b[49m\u001b[38;5;241;43m.\u001b[39;49m\u001b[43mread\u001b[49m\u001b[43m(\u001b[49m\n\u001b[1;32m    327\u001b[0m \u001b[43m        \u001b[49m\u001b[38;5;28;43mself\u001b[39;49m\u001b[38;5;241;43m.\u001b[39;49m\u001b[43mband\u001b[49m\u001b[43m,\u001b[49m\u001b[43m \u001b[49m\u001b[43mwindow\u001b[49m\u001b[38;5;241;43m=\u001b[39;49m\u001b[43mwin\u001b[49m\u001b[43m,\u001b[49m\u001b[43m \u001b[49m\u001b[43mboundless\u001b[49m\u001b[38;5;241;43m=\u001b[39;49m\u001b[43mboundless\u001b[49m\u001b[43m,\u001b[49m\u001b[43m \u001b[49m\u001b[43mmasked\u001b[49m\u001b[38;5;241;43m=\u001b[39;49m\u001b[43mmasked\u001b[49m\u001b[43m)\u001b[49m\n\u001b[1;32m    329\u001b[0m \u001b[38;5;28;01mreturn\u001b[39;00m Raster(new_array, new_affine, nodata)\n",
      "File \u001b[0;32mrasterio/_io.pyx:412\u001b[0m, in \u001b[0;36mrasterio._io.DatasetReaderBase.read\u001b[0;34m()\u001b[0m\n",
      "File \u001b[0;32mrasterio/_base.pyx:396\u001b[0m, in \u001b[0;36mrasterio._base.DatasetBase.__exit__\u001b[0;34m()\u001b[0m\n",
      "File \u001b[0;32m/opt/conda/lib/python3.10/site-packages/rasterio/env.py:285\u001b[0m, in \u001b[0;36mEnv.__exit__\u001b[0;34m(self, exc_type, exc_val, exc_tb)\u001b[0m\n\u001b[1;32m    282\u001b[0m     log\u001b[38;5;241m.\u001b[39mdebug(\u001b[38;5;124m\"\u001b[39m\u001b[38;5;124mEntered env context: \u001b[39m\u001b[38;5;132;01m%r\u001b[39;00m\u001b[38;5;124m\"\u001b[39m, \u001b[38;5;28mself\u001b[39m)\n\u001b[1;32m    283\u001b[0m     \u001b[38;5;28;01mreturn\u001b[39;00m \u001b[38;5;28mself\u001b[39m\n\u001b[0;32m--> 285\u001b[0m \u001b[38;5;28;01mdef\u001b[39;00m \u001b[38;5;21m__exit__\u001b[39m(\u001b[38;5;28mself\u001b[39m, exc_type\u001b[38;5;241m=\u001b[39m\u001b[38;5;28;01mNone\u001b[39;00m, exc_val\u001b[38;5;241m=\u001b[39m\u001b[38;5;28;01mNone\u001b[39;00m, exc_tb\u001b[38;5;241m=\u001b[39m\u001b[38;5;28;01mNone\u001b[39;00m):\n\u001b[1;32m    286\u001b[0m     log\u001b[38;5;241m.\u001b[39mdebug(\u001b[38;5;124m\"\u001b[39m\u001b[38;5;124mExiting env context: \u001b[39m\u001b[38;5;132;01m%r\u001b[39;00m\u001b[38;5;124m\"\u001b[39m, \u001b[38;5;28mself\u001b[39m)\n\u001b[1;32m    287\u001b[0m     delenv()\n",
      "\u001b[0;31mKeyboardInterrupt\u001b[0m: "
     ]
    }
   ],
   "source": [
    "st_yr = 1990\n",
    "end_yr = 2019\n",
    "\n",
    "years = range(st_yr, end_yr + 1)\n",
    "stats = [\"mean\"]\n",
    "\n",
    "# Zonal stats.\n",
    "path_dict = {\n",
    "    \"TOC_mgpl\": r\"/home/jovyan/shared/critical_loads/norway_interpolated_toc_2019.nc\",\n",
    "    \"NO3_NO2_ugpl\": r\"/home/jovyan/shared/critical_loads/norway_interpolated_no3_1990-2021.nc\",\n",
    "}\n",
    "\n",
    "for year in years:\n",
    "    for par, nc_path in path_dict.items():\n",
    "        if (par == \"TOC_mgpl\") and (year != 2019):\n",
    "            # Only have data for 2019\n",
    "            pass\n",
    "        else:\n",
    "            with xr.open_dataset(nc_path, mask_and_scale=True) as ds:\n",
    "                # rasterstats can't handle arrays indexed with increasing 'y'. See\n",
    "                # https://github.com/perrygeo/python-rasterstats/issues/98\n",
    "                # Flip array and 'y' indices to make compatible\n",
    "                ds = ds.sel(y=slice(None, None, -1))\n",
    "                ds = ds.rio.write_transform()\n",
    "                ds[par].sel(year=year).rio.to_raster(\"temp.tif\")\n",
    "\n",
    "            stats_df = pd.DataFrame(\n",
    "                zonal_stats(\n",
    "                    vectors=blr_gdf,\n",
    "                    raster=\"temp.tif\",\n",
    "                    stats=stats,\n",
    "                    all_touched=False,\n",
    "                )\n",
    "            )\n",
    "            blr_gdf[f\"{par}_{year}\"] = stats_df[\"mean\"]\n",
    "\n",
    "os.remove(\"temp.tif\")\n",
    "blr_gdf.head()"
   ]
  },
  {
   "cell_type": "markdown",
   "id": "be3ddd1e-4ffc-456a-b62a-e06e8a3d01e1",
   "metadata": {},
   "source": [
    "The code below plots the new TOC grid for 2019 against the old one. It also plots the new NO3 grid for the specified year against the original."
   ]
  },
  {
   "cell_type": "code",
   "execution_count": null,
   "id": "92b08ff0-c6e8-4823-8f2b-c0af1f844496",
   "metadata": {},
   "outputs": [],
   "source": [
    "# Plot\n",
    "no3_year = 1990\n",
    "\n",
    "fig, axes = plt.subplots(nrows=2, ncols=2, figsize=(10, 10))\n",
    "blr_gdf.plot(column=\"TOC_mgpl_orig\", legend=True, ax=axes[0, 0], vmax=25)\n",
    "blr_gdf.plot(column=\"TOC_mgpl_2019\", legend=True, ax=axes[0, 1], vmax=25)\n",
    "blr_gdf.plot(column=\"NO3_NO2_ugpl_orig\", legend=True, ax=axes[1, 0], vmax=200)\n",
    "blr_gdf.plot(column=f\"NO3_NO2_ugpl_{no3_year}\", legend=True, ax=axes[1, 1], vmax=200)\n",
    "axes[0, 0].set_title(\"TOC by BLR (original; mg/l)\")\n",
    "axes[0, 1].set_title(\"TOC by BLR in 2019 (mg/l)\")\n",
    "axes[1, 0].set_title(\"NO3 by BLR in (original; ugN/l)\")\n",
    "axes[1, 1].set_title(f\"NO3 by BLR in {no3_year} (ugN/l)\")\n",
    "for ax in axes.flatten():\n",
    "    ax.axis(\"off\")\n",
    "plt.tight_layout()"
   ]
  },
  {
   "cell_type": "markdown",
   "id": "238712af-2a4e-4755-908b-bbc26e6b374a",
   "metadata": {},
   "source": [
    "Overall the results above seem reasonable: TOC concentrations have increased more-or-less as expected, and the NO3 grid for 1990 from the new approach seems broadly compatible with the old version. The new approach also produces smoother, more complete results than the old version, and there are fewer large outliers.\n",
    "\n",
    "One feature of the new NO3 grid that seems questionable is the \"island\" of high concentrations in south-central Norway, a little north of Dombås (near Dovrefjell National Park). This seems to be caused by high nitrate concentrations measured at a single site - Kjelsungvatnet. However, after some investigation we can find no reason to exclude these data, so we will assume the signal is real. See e-mail from Kari received 09.02.2023 at 12.41 for details. \n",
    "\n",
    "## 2. Runoff\n",
    "\n",
    "The code in this section estimates mean annual runoff in mm/yr based on NVE's runoff \"normal\" from 1991 to 2020."
   ]
  },
  {
   "cell_type": "code",
   "execution_count": null,
   "id": "3656b3da-7c84-4dd4-a692-a71f0cb00301",
   "metadata": {},
   "outputs": [],
   "source": [
    "ro_grid_path = r\"/home/jovyan/shared/teotil3/nve_hbv_data/runoff_1991-2020_mm_year.tif\"\n",
    "stats = [\"mean\"]\n",
    "stats_df = pd.DataFrame(\n",
    "    zonal_stats(\n",
    "        vectors=blr_gdf,\n",
    "        raster=ro_grid_path,\n",
    "        stats=stats,\n",
    "        all_touched=False,\n",
    "    )\n",
    ")\n",
    "blr_gdf[\"runoff_mmpyr\"] = stats_df[\"mean\"]\n",
    "\n",
    "# Plot\n",
    "ax = blr_gdf.plot(column=\"runoff_mmpyr\", legend=True, figsize=(8, 8))\n",
    "ax.axis(\"off\");"
   ]
  },
  {
   "cell_type": "markdown",
   "id": "272eb636-6695-4e32-bf95-e0a7e36c83ab",
   "metadata": {},
   "source": [
    "## 3. AR50 proportions\n",
    "\n",
    "We need to calculate the following for each BLR cell:\n",
    "\n",
    " * Cell area\n",
    " * Lake area (AR50 class 81)\n",
    " * Forest area (AR50 class 30\n",
    " * Bare area (AR50 classes 51 and 70)\n",
    " * Peat area (AR50 class 60)\n",
    " \n",
    "Note that all of these are simple/high-level divisions of `artype`, except class 51, which is a subdivision within `arveget`. The code below calculates a new column where class 51 is used where present, otherwise `artype`."
   ]
  },
  {
   "cell_type": "code",
   "execution_count": null,
   "id": "07fd7fcc-7382-4392-99b7-6b4673463123",
   "metadata": {},
   "outputs": [],
   "source": [
    "print(\"Reprojecting...\")\n",
    "clip_gdf = blr_gdf[[\"cell_id\", \"geom\"]].to_crs({\"proj\": \"cea\"}).copy()\n",
    "ar50_gdf = nivapy.da.read_postgis(\"physical\", \"norway_nibio_ar50_poly\", eng).to_crs(\n",
    "    {\"proj\": \"cea\"}\n",
    ")\n",
    "\n",
    "print(\"Reclassifying...\")\n",
    "class_dict = {\n",
    "    \"81\": \"Lake_area\",\n",
    "    \"30\": \"Forest_area\",\n",
    "    \"51\": \"Bare_area\",\n",
    "    \"70\": \"Bare_area\",\n",
    "    \"60\": \"Peat_area\",\n",
    "    \"-1\": \"Other_area\",\n",
    "}\n",
    "ar50_gdf[\"lc_class\"] = np.where(\n",
    "    ar50_gdf[\"arveget\"] == 51, ar50_gdf[\"arveget\"], ar50_gdf[\"artype\"]\n",
    ")\n",
    "ar50_gdf[\"lc_class\"] = np.where(\n",
    "    ar50_gdf[\"lc_class\"].isin(class_dict.keys()), ar50_gdf[\"lc_class\"], \"-1\"\n",
    ")\n",
    "ar50_gdf[\"lc_class\"].replace(class_dict, inplace=True)\n",
    "\n",
    "print(\"Intersecting...\")\n",
    "int_gdf = gpd.overlay(clip_gdf, ar50_gdf, how=\"intersection\", keep_geom_type=True)\n",
    "int_gdf[\"area_km2\"] = int_gdf[\"geometry\"].area / 1e6\n",
    "\n",
    "print(\"Aggregating...\")\n",
    "lc_df = int_gdf.groupby([\"cell_id\", \"lc_class\"]).sum()[\"area_km2\"]\n",
    "lc_df = lc_df.unstack(\"lc_class\")\n",
    "lc_df.columns = [f\"{i}_km2\" for i in lc_df.columns]\n",
    "lc_df.fillna(0, inplace=True)\n",
    "lc_df[\"Total_area_km2\"] = lc_df.sum(axis=\"columns\")\n",
    "lc_df.reset_index(inplace=True)\n",
    "lc_df.columns.name = \"\"\n",
    "\n",
    "blr_gdf = blr_gdf.merge(lc_df, how=\"left\", on=\"cell_id\")\n",
    "blr_gdf.dropna(how=\"any\", inplace=True)\n",
    "blr_gdf.head()"
   ]
  },
  {
   "cell_type": "code",
   "execution_count": null,
   "id": "2dc96222-be65-494e-81ee-ddf7179f3c7e",
   "metadata": {},
   "outputs": [],
   "source": [
    "# Save\n",
    "blr_csv = \"updated_blr_summary.csv\"\n",
    "blr_df = pd.DataFrame(blr_gdf.drop(columns=\"geom\"))\n",
    "blr_df.to_csv(blr_csv, index=False)"
   ]
  }
 ],
 "metadata": {
  "kernelspec": {
   "display_name": "Python 3 (ipykernel)",
   "language": "python",
   "name": "python3"
  },
  "language_info": {
   "codemirror_mode": {
    "name": "ipython",
    "version": 3
   },
   "file_extension": ".py",
   "mimetype": "text/x-python",
   "name": "python",
   "nbconvert_exporter": "python",
   "pygments_lexer": "ipython3",
   "version": "3.10.6"
  }
 },
 "nbformat": 4,
 "nbformat_minor": 5
}
