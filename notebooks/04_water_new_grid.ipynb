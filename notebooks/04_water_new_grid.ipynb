{
 "cells": [
  {
   "cell_type": "code",
   "execution_count": 1,
   "metadata": {},
   "outputs": [],
   "source": [
    "%matplotlib inline\n",
    "import nivapy3 as nivapy\n",
    "import pandas as pd\n",
    "import numpy as np\n",
    "import geopandas as gpd\n",
    "import matplotlib.pyplot as plt\n",
    "import critical_loads as cl\n",
    "import warnings\n",
    "import os\n",
    "import gdal\n",
    "\n",
    "warnings.simplefilter('ignore')\n",
    "plt.style.use('ggplot')"
   ]
  },
  {
   "cell_type": "code",
   "execution_count": 2,
   "metadata": {},
   "outputs": [
    {
     "name": "stdout",
     "output_type": "stream",
     "text": [
      "Connection successful.\n"
     ]
    }
   ],
   "source": [
    "# Connect to PostGIS\n",
    "eng = nivapy.da.connect_postgis(database='critical_loads')"
   ]
  },
  {
   "cell_type": "markdown",
   "metadata": {},
   "source": [
    "# Critical loads: Water workflow (high-resolution method; 2018 onwards)\n",
    "\n",
    "In Spring 2018, the worflow for calculating critical loads was refined to make use of new, higher-resolution input datasets. During November 2018, data handling for the Critical Loads project was also redesigned, with the ultimate aim of centralising all key datasets on NIVA's new cloud platform. \n",
    "\n",
    "This notebook deals with data processing for the water exceedance calculations, using the new 0.1 degree deposition grid and the old, BLR-based water chemistry dataset. "
   ]
  },
  {
   "cell_type": "markdown",
   "metadata": {},
   "source": [
    "## 1. Organising water data on the DSToolkit\n",
    "\n",
    "NIVA's JupyterHub includes a PostGIS database server capable of storing relational and vector geospatial datasets. I have created a database named `critical_loads` and, within this, a schema named `water`. This schema contains the following tables:\n",
    "\n",
    " * **parameter_definitions:** Non-spatial table describing the water chemistry and model parameters used to calculate water critical loads\n",
    " \n",
    " * **blr_magic_parameters:** Non-spatial table containing result from the MAGIC model\n",
    " \n",
    " * **blr_optional_parameters:** Non-spatial table containing optional parameters for the calculation of critical loads\n",
    " \n",
    " * **blr_required_parameters:** Non-spatial table containing required parameters for the calculation of critical loads\n",
    " \n",
    " * **magic_regression_data:** Output from the MAGIC model used for estimating $BC_0$"
   ]
  },
  {
   "cell_type": "markdown",
   "metadata": {},
   "source": [
    "## 2. Define deposition data series of interest\n",
    "\n",
    "Choose the deposition dataset and resolution you wish to work with (see notebook 01 for a list of available `series_ids`). Note that **S and N deposition grids at the specified resolution must already have been created in notebook 02**. 120 m resolution is more than sufficient - the highest resolution of raw data in this workflow is 0.1 degrees, which is several _kilometres_, even in northern Norway."
   ]
  },
  {
   "cell_type": "code",
   "execution_count": 3,
   "metadata": {},
   "outputs": [],
   "source": [
    "# Series of interest\n",
    "ser_id = 28\n",
    "\n",
    "# Choose cell size (30m, 60m or 120m)\n",
    "cell_size = 120"
   ]
  },
  {
   "cell_type": "markdown",
   "metadata": {},
   "source": [
    "## 3. Calculate critical loads for water\n",
    "\n",
    "The code below reads water chemistry and model parameters for each BLR grid cell from the database and creates rasters for the following key parameters:\n",
    "\n",
    "    'claoaa', 'eno3', 'clminn', 'clmaxnoaa', 'clmaxsoaa', 'clmins'\n",
    "    \n",
    "**This code does not need to be re-run unless the underlying water chemistry data (or the desired cell size) is changed**."
   ]
  },
  {
   "cell_type": "code",
   "execution_count": 4,
   "metadata": {},
   "outputs": [],
   "source": [
    "## Rasteris critical loads for water\n",
    "#cl.rasterise_water_critical_loads(eng, cell_size)"
   ]
  },
  {
   "cell_type": "markdown",
   "metadata": {},
   "source": [
    "## 4. Calculate exceedances"
   ]
  },
  {
   "cell_type": "markdown",
   "metadata": {},
   "source": [
    "### 4.1. SSWC model"
   ]
  },
  {
   "cell_type": "code",
   "execution_count": 5,
   "metadata": {},
   "outputs": [
    {
     "name": "stdout",
     "output_type": "stream",
     "text": [
      "Exceedance grid saved to:\n",
      "    /home/jovyan/shared/critical_loads/raster/exceedance/sswc_ex_12-16_120m.tif\n"
     ]
    },
    {
     "data": {
      "text/html": [
       "<div>\n",
       "<style scoped>\n",
       "    .dataframe tbody tr th:only-of-type {\n",
       "        vertical-align: middle;\n",
       "    }\n",
       "\n",
       "    .dataframe tbody tr th {\n",
       "        vertical-align: top;\n",
       "    }\n",
       "\n",
       "    .dataframe thead th {\n",
       "        text-align: right;\n",
       "    }\n",
       "</style>\n",
       "<table border=\"1\" class=\"dataframe\">\n",
       "  <thead>\n",
       "    <tr style=\"text-align: right;\">\n",
       "      <th></th>\n",
       "      <th>series_id</th>\n",
       "      <th>medium</th>\n",
       "      <th>total_area_km2</th>\n",
       "      <th>exceeded_area_km2</th>\n",
       "      <th>exceeded_area_pct</th>\n",
       "    </tr>\n",
       "  </thead>\n",
       "  <tbody>\n",
       "    <tr>\n",
       "      <td>0</td>\n",
       "      <td>28</td>\n",
       "      <td>water_sswc</td>\n",
       "      <td>322184</td>\n",
       "      <td>23225</td>\n",
       "      <td>7</td>\n",
       "    </tr>\n",
       "  </tbody>\n",
       "</table>\n",
       "</div>"
      ],
      "text/plain": [
       "   series_id      medium  total_area_km2  exceeded_area_km2  exceeded_area_pct\n",
       "0         28  water_sswc          322184              23225                  7"
      ]
     },
     "execution_count": 5,
     "metadata": {},
     "output_type": "execute_result"
    }
   ],
   "source": [
    "ex_df = cl.calculate_water_exceedance_sswc(ser_id, '11-16', cell_size=120)\n",
    "ex_df"
   ]
  },
  {
   "cell_type": "markdown",
   "metadata": {},
   "source": [
    "**If you connected to the database with `admin=True`**, these results can be saved back to the database."
   ]
  },
  {
   "cell_type": "code",
   "execution_count": 6,
   "metadata": {},
   "outputs": [],
   "source": [
    "## Write summary data to db\n",
    "#ex_df.to_sql('national_summary', \n",
    "#             eng,\n",
    "#             'summaries',\n",
    "#             if_exists='append',\n",
    "#             index=False)"
   ]
  },
  {
   "cell_type": "markdown",
   "metadata": {},
   "source": [
    "### 4.2. FAB model\n",
    "\n",
    "The code in this section calculates exceedances for water using the FAB model. This is based on my original code [here](https://nbviewer.jupyter.org/github/JamesSample/critical_loads/blob/master/notebooks/critical_loads_workflow_new_grid.ipynb#2.3.3.-FAB-model)."
   ]
  },
  {
   "cell_type": "code",
   "execution_count": 7,
   "metadata": {},
   "outputs": [],
   "source": [
    "# Constants to build paths\n",
    "base_path = r'/home/jovyan/shared/critical_loads/raster'\n",
    "year_range = '12-16'\n",
    "\n",
    "# Read CL arrays\n",
    "array_dict = {}\n",
    "for name in ['clminn', 'clmaxnoaa', 'clmins', 'clmaxsoaa']:\n",
    "    # Read tif\n",
    "    tif_path = os.path.join(base_path, 'water', f'{name}_{cell_size}m.tif')\n",
    "    data, ndv, epsg, extent = nivapy.spatial.read_raster(tif_path)\n",
    "    \n",
    "    # Set NDV\n",
    "    data[data==ndv] = np.nan\n",
    "    \n",
    "    # Add to dict\n",
    "    array_dict[name] = data\n",
    "    \n",
    "# Read dep arrays\n",
    "for name in ['ndep', 'sdep']:\n",
    "    # Read tif\n",
    "    tif_path = os.path.join(base_path, 'deposition', f'{name}_{year_range}_{cell_size}m.tif') \n",
    "    data, ndv, epsg, extent = nivapy.spatial.read_raster(tif_path)\n",
    "    data = data.astype(np.float32)\n",
    "    \n",
    "    # Set NDV\n",
    "    data[data==ndv] = np.nan\n",
    "    \n",
    "    # Add to dict\n",
    "    array_dict[name] = data"
   ]
  },
  {
   "cell_type": "code",
   "execution_count": 8,
   "metadata": {},
   "outputs": [
    {
     "name": "stdout",
     "output_type": "stream",
     "text": [
      "CPU times: user 11.1 s, sys: 5.59 s, total: 16.7 s\n",
      "Wall time: 16.7 s\n"
     ]
    },
    {
     "data": {
      "text/html": [
       "<div>\n",
       "<style scoped>\n",
       "    .dataframe tbody tr th:only-of-type {\n",
       "        vertical-align: middle;\n",
       "    }\n",
       "\n",
       "    .dataframe tbody tr th {\n",
       "        vertical-align: top;\n",
       "    }\n",
       "\n",
       "    .dataframe thead th {\n",
       "        text-align: right;\n",
       "    }\n",
       "</style>\n",
       "<table border=\"1\" class=\"dataframe\">\n",
       "  <thead>\n",
       "    <tr style=\"text-align: right;\">\n",
       "      <th></th>\n",
       "      <th>series_id</th>\n",
       "      <th>medium</th>\n",
       "      <th>total_area_km2</th>\n",
       "      <th>exceeded_area_km2</th>\n",
       "      <th>exceeded_area_pct</th>\n",
       "    </tr>\n",
       "  </thead>\n",
       "  <tbody>\n",
       "    <tr>\n",
       "      <td>0</td>\n",
       "      <td>28</td>\n",
       "      <td>water_fab</td>\n",
       "      <td>322184</td>\n",
       "      <td>61056</td>\n",
       "      <td>19</td>\n",
       "    </tr>\n",
       "  </tbody>\n",
       "</table>\n",
       "</div>"
      ],
      "text/plain": [
       "   series_id     medium  total_area_km2  exceeded_area_km2  exceeded_area_pct\n",
       "0         28  water_fab          322184              61056                 19"
      ]
     },
     "execution_count": 8,
     "metadata": {},
     "output_type": "execute_result"
    }
   ],
   "source": [
    "%%time\n",
    "# Extract arrays from dict\n",
    "cln_min = array_dict['clminn']\n",
    "cln_max = array_dict['clmaxnoaa']\n",
    "cls_min = array_dict['clmins']\n",
    "cls_max = array_dict['clmaxsoaa']\n",
    "dep_n = array_dict[f'ndep'] / 14         # Convert to meq\n",
    "dep_s = array_dict[f'sdep'] * 2 / 32.06  # Convert to meq\n",
    "\n",
    "# Estimate exceedances\n",
    "ex_n, ex_s, reg_id = cl.vectorised_exceed_ns_icpm(cln_min, cln_max, \n",
    "                                                  cls_min, cls_max, \n",
    "                                                  dep_n, dep_s)\n",
    "\n",
    "# Get exceeded area\n",
    "ex = ex_n + ex_s\n",
    "ex_area = np.count_nonzero(ex > 0)*cell_size*cell_size/1.E6\n",
    "nor_area = np.count_nonzero(~np.isnan(dep_s))*cell_size*cell_size/1.E6\n",
    "ex_pct = 100*ex_area/nor_area\n",
    "\n",
    "# Build df and tidy\n",
    "ex_df = pd.DataFrame({'exceeded_area_km2':ex_area,\n",
    "                      'total_area_km2':nor_area,\n",
    "                      'exceeded_area_pct':ex_pct},\n",
    "                     index=[0],\n",
    "                    )\n",
    "\n",
    "ex_df = ex_df.round(0).astype(int)\n",
    "ex_df['series_id'] = ser_id\n",
    "ex_df['medium'] = 'water_fab'\n",
    "\n",
    "ex_df = ex_df[['series_id', 'medium', 'total_area_km2', 'exceeded_area_km2', \n",
    "               'exceeded_area_pct']]\n",
    "\n",
    "ex_df"
   ]
  },
  {
   "cell_type": "markdown",
   "metadata": {},
   "source": [
    "**If you connected to the database with `admin=True`**, these results can be saved back to the database."
   ]
  },
  {
   "cell_type": "code",
   "execution_count": 9,
   "metadata": {},
   "outputs": [],
   "source": [
    "## Write summary data to db\n",
    "#ex_df.to_sql('national_summary', \n",
    "#             eng,\n",
    "#             'summaries',\n",
    "#             if_exists='append',\n",
    "#             index=False)"
   ]
  },
  {
   "cell_type": "markdown",
   "metadata": {},
   "source": [
    "The code below writes the FAB results to GeoTiff format."
   ]
  },
  {
   "cell_type": "code",
   "execution_count": 10,
   "metadata": {},
   "outputs": [],
   "source": [
    "# Snap tiff\n",
    "snap_tif = f'/home/jovyan/shared/critical_loads/raster/blr_land_mask_{cell_size}m.tif'\n",
    "    \n",
    "# N\n",
    "n_tif = f'/home/jovyan/shared/critical_loads/raster/exceedance/fab_ex_n_{year_range}_{cell_size}m.tif'\n",
    "cl.write_geotiff(ex_n, n_tif, snap_tif, -1, gdal.GDT_Float32)\n",
    "\n",
    "# S\n",
    "s_tif = f'/home/jovyan/shared/critical_loads/raster/exceedance/fab_ex_s_{year_range}_{cell_size}m.tif'\n",
    "cl.write_geotiff(ex_s, s_tif, snap_tif, -1, gdal.GDT_Float32)\n",
    "\n",
    "# N+S\n",
    "ns_tif = f'/home/jovyan/shared/critical_loads/raster/exceedance/fab_ex_ns_{year_range}_{cell_size}m.tif'\n",
    "cl.write_geotiff(ex_n+ex_s, ns_tif, snap_tif, -1, gdal.GDT_Float32)\n",
    "\n",
    "# Exceedance 'region'\n",
    "reg_tif = f'/home/jovyan/shared/critical_loads/raster/exceedance/fab_ex_reg_id_{year_range}_{cell_size}m.tif'\n",
    "cl.write_geotiff(reg_id, reg_tif, snap_tif, -1, gdal.GDT_Float32)"
   ]
  }
 ],
 "metadata": {
  "kernelspec": {
   "display_name": "Python 3",
   "language": "python",
   "name": "python3"
  },
  "language_info": {
   "codemirror_mode": {
    "name": "ipython",
    "version": 3
   },
   "file_extension": ".py",
   "mimetype": "text/x-python",
   "name": "python",
   "nbconvert_exporter": "python",
   "pygments_lexer": "ipython3",
   "version": "3.7.4"
  }
 },
 "nbformat": 4,
 "nbformat_minor": 4
}
