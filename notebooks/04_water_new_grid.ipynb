{
 "cells": [
  {
   "cell_type": "code",
   "execution_count": 1,
   "metadata": {},
   "outputs": [],
   "source": [
    "%matplotlib inline\n",
    "import os\n",
    "import warnings\n",
    "\n",
    "import critical_loads as cl\n",
    "import gdal\n",
    "import geopandas as gpd\n",
    "import matplotlib.pyplot as plt\n",
    "import nivapy3 as nivapy\n",
    "import numpy as np\n",
    "import pandas as pd\n",
    "\n",
    "warnings.simplefilter(\"ignore\")\n",
    "plt.style.use(\"ggplot\")"
   ]
  },
  {
   "cell_type": "code",
   "execution_count": 2,
   "metadata": {},
   "outputs": [
    {
     "name": "stdout",
     "output_type": "stream",
     "text": [
      "Connection successful.\n"
     ]
    }
   ],
   "source": [
    "# Connect to PostGIS\n",
    "eng = nivapy.da.connect_postgis(database=\"critical_loads\")"
   ]
  },
  {
   "cell_type": "markdown",
   "metadata": {},
   "source": [
    "# Critical loads: Water workflow (high-resolution method; 2018 onwards)\n",
    "\n",
    "In Spring 2018, the worflow for calculating critical loads was refined to make use of new, higher-resolution input datasets. During November 2018, data handling for the Critical Loads project was also redesigned, with the ultimate aim of centralising all key datasets on NIVA's new cloud platform. \n",
    "\n",
    "This notebook deals with data processing for the water exceedance calculations, using the new 0.1 degree deposition grid and the old, BLR-based water chemistry dataset. "
   ]
  },
  {
   "cell_type": "markdown",
   "metadata": {},
   "source": [
    "## 1. Organising water data on the DSToolkit\n",
    "\n",
    "NIVA's JupyterHub includes a PostGIS database server capable of storing relational and vector geospatial datasets. I have created a database named `critical_loads` and, within this, a schema named `water`. This schema contains the following tables:\n",
    "\n",
    " * **parameter_definitions:** Non-spatial table describing the water chemistry and model parameters used to calculate water critical loads\n",
    " \n",
    " * **blr_magic_parameters:** Non-spatial table containing result from the MAGIC model\n",
    " \n",
    " * **blr_optional_parameters:** Non-spatial table containing optional parameters for the calculation of critical loads\n",
    " \n",
    " * **blr_required_parameters:** Non-spatial table containing required parameters for the calculation of critical loads\n",
    " \n",
    " * **magic_regression_data:** Output from the MAGIC model used for estimating $BC_0$"
   ]
  },
  {
   "cell_type": "markdown",
   "metadata": {},
   "source": [
    "## 2. Define deposition data series of interest\n",
    "\n",
    "Choose the deposition dataset and resolution you wish to work with (see notebook 01 for a list of available `series_ids`). Note that **S and N deposition grids at the specified resolution must already have been created in notebook 02**. 120 m resolution is more than sufficient - the highest resolution of raw data in this workflow is 0.1 degrees, which is several _kilometres_, even in northern Norway."
   ]
  },
  {
   "cell_type": "code",
   "execution_count": 3,
   "metadata": {},
   "outputs": [],
   "source": [
    "# Series of interest\n",
    "ser_id = 28\n",
    "\n",
    "# Choose cell size (30m, 60m or 120m)\n",
    "cell_size = 120"
   ]
  },
  {
   "cell_type": "markdown",
   "metadata": {},
   "source": [
    "## 3. Calculate critical loads for water\n",
    "\n",
    "The code below reads water chemistry and model parameters for each BLR grid cell from the database and creates rasters for the following key parameters:\n",
    "\n",
    "    'claoaa', 'eno3', 'clminn', 'clmaxnoaa', 'clmaxsoaa', 'clmins', 'anclimit', 'anclimit_oaa', 'bc0'\n",
    "    \n",
    "See the function `docstring` for details - it includes various options for e.g. using Magic data from an Excel template.\n",
    "\n",
    "#### Added 02.11.2020\n",
    "\n",
    "The function has been modified to also output `anclimit_ueqpl`, `anclimitoaa_ueqpl` and `bc0_ueqpl`. See e-mail from Kari received 02.11.2020 at 09.30 for details."
   ]
  },
  {
   "cell_type": "code",
   "execution_count": 4,
   "metadata": {},
   "outputs": [
    {
     "name": "stdout",
     "output_type": "stream",
     "text": [
      "Rasterising claoaa_meqpm2pyr...\n",
      "Rasterising eno3_flux_meqpm2pyr...\n",
      "Rasterising clminn_meqpm2pyr...\n",
      "Rasterising clmaxnoaa_meqpm2pyr...\n",
      "Rasterising clmaxsoaa_meqpm2pyr...\n",
      "Rasterising anclimit_ueqpl...\n",
      "Rasterising anclimitoaa_ueqpl...\n",
      "Rasterising bc0_ueqpl...\n",
      "Rasterising clmins_meqpm2pyr...\n",
      "Rasters saved to:\n",
      "    /home/jovyan/shared/critical_loads/raster/water\n"
     ]
    }
   ],
   "source": [
    "# Rasterise critical loads for water\n",
    "out_fold = r\"/home/jovyan/shared/critical_loads/raster/water\"\n",
    "cl.rasterise_water_critical_loads(eng, out_fold, cell_size)"
   ]
  },
  {
   "cell_type": "markdown",
   "metadata": {},
   "source": [
    "## 4. Calculate exceedances"
   ]
  },
  {
   "cell_type": "markdown",
   "metadata": {},
   "source": [
    "### 4.1. SSWC model"
   ]
  },
  {
   "cell_type": "code",
   "execution_count": 5,
   "metadata": {},
   "outputs": [
    {
     "name": "stdout",
     "output_type": "stream",
     "text": [
      "Exceedance grid saved to:\n",
      "    /home/jovyan/shared/critical_loads/raster/exceedance/sswc_ex_meqpm2pyr_1216_120m.tif\n"
     ]
    },
    {
     "data": {
      "text/html": [
       "<div>\n",
       "<style scoped>\n",
       "    .dataframe tbody tr th:only-of-type {\n",
       "        vertical-align: middle;\n",
       "    }\n",
       "\n",
       "    .dataframe tbody tr th {\n",
       "        vertical-align: top;\n",
       "    }\n",
       "\n",
       "    .dataframe thead th {\n",
       "        text-align: right;\n",
       "    }\n",
       "</style>\n",
       "<table border=\"1\" class=\"dataframe\">\n",
       "  <thead>\n",
       "    <tr style=\"text-align: right;\">\n",
       "      <th></th>\n",
       "      <th>series_id</th>\n",
       "      <th>medium</th>\n",
       "      <th>total_area_km2</th>\n",
       "      <th>exceeded_area_km2</th>\n",
       "      <th>exceeded_area_pct</th>\n",
       "    </tr>\n",
       "  </thead>\n",
       "  <tbody>\n",
       "    <tr>\n",
       "      <th>0</th>\n",
       "      <td>28</td>\n",
       "      <td>water_sswc</td>\n",
       "      <td>322184</td>\n",
       "      <td>23225</td>\n",
       "      <td>7</td>\n",
       "    </tr>\n",
       "  </tbody>\n",
       "</table>\n",
       "</div>"
      ],
      "text/plain": [
       "   series_id      medium  total_area_km2  exceeded_area_km2  exceeded_area_pct\n",
       "0         28  water_sswc          322184              23225                  7"
      ]
     },
     "execution_count": 5,
     "metadata": {},
     "output_type": "execute_result"
    }
   ],
   "source": [
    "cl_fold = r\"/home/jovyan/shared/critical_loads/raster/water\"\n",
    "out_fold = r\"/home/jovyan/shared/critical_loads/raster/exceedance\"\n",
    "ex_df = cl.calculate_water_exceedance_sswc(\n",
    "    ser_id, \"1216\", cl_fold, out_fold, cell_size=120, bc0=\"BC0\"\n",
    ")\n",
    "ex_df"
   ]
  },
  {
   "cell_type": "markdown",
   "metadata": {},
   "source": [
    "**If you connected to the database with `admin=True`**, these results can be saved back to the database."
   ]
  },
  {
   "cell_type": "code",
   "execution_count": 6,
   "metadata": {},
   "outputs": [],
   "source": [
    "## Write summary data to db\n",
    "# ex_df.to_sql('national_summary',\n",
    "#             eng,\n",
    "#             'summaries',\n",
    "#             if_exists='append',\n",
    "#             index=False)"
   ]
  },
  {
   "cell_type": "markdown",
   "metadata": {},
   "source": [
    "### 4.2. FAB model\n",
    "\n",
    "The code in this section calculates exceedances for water using the FAB model. This is based on my original code [here](https://nbviewer.jupyter.org/github/JamesSample/critical_loads/blob/master/notebooks/critical_loads_workflow_new_grid.ipynb#2.3.3.-FAB-model)."
   ]
  },
  {
   "cell_type": "code",
   "execution_count": 7,
   "metadata": {},
   "outputs": [],
   "source": [
    "# Constants to build paths\n",
    "base_path = r\"/home/jovyan/shared/critical_loads/raster\"\n",
    "short_name = \"1216\"\n",
    "\n",
    "# Read CL arrays\n",
    "array_dict = {}\n",
    "for par in [\n",
    "    \"clminn_meqpm2pyr\",\n",
    "    \"clmaxnoaa_meqpm2pyr\",\n",
    "    \"clmins_meqpm2pyr\",\n",
    "    \"clmaxsoaa_meqpm2pyr\",\n",
    "]:\n",
    "    # Read tif\n",
    "    tif_path = os.path.join(base_path, \"water\", f\"{par}_{cell_size}m.tif\")\n",
    "    data, ndv, epsg, extent = nivapy.spatial.read_raster(tif_path)\n",
    "\n",
    "    # Set NDV\n",
    "    data[data == ndv] = np.nan\n",
    "\n",
    "    # Add to dict\n",
    "    array_dict[par] = data\n",
    "\n",
    "# Read dep arrays\n",
    "for par in [\"ndep_mgpm2pyr\", \"sdep_mgpm2pyr\"]:\n",
    "    # Read tif\n",
    "    tif_path = os.path.join(\n",
    "        base_path, \"deposition\", f\"{par}_{short_name}_{cell_size}m.tif\"\n",
    "    )\n",
    "    data, ndv, epsg, extent = nivapy.spatial.read_raster(tif_path)\n",
    "    data = data.astype(np.float32)\n",
    "\n",
    "    # Set NDV\n",
    "    data[data == ndv] = np.nan\n",
    "\n",
    "    # Add to dict\n",
    "    array_dict[par] = data"
   ]
  },
  {
   "cell_type": "markdown",
   "metadata": {},
   "source": [
    "**The code below needs to be run on a \"high memory\" machine, even with 120 m resolution.**"
   ]
  },
  {
   "cell_type": "code",
   "execution_count": 8,
   "metadata": {},
   "outputs": [
    {
     "name": "stdout",
     "output_type": "stream",
     "text": [
      "CPU times: user 10.7 s, sys: 4.96 s, total: 15.7 s\n",
      "Wall time: 15.7 s\n"
     ]
    },
    {
     "data": {
      "text/html": [
       "<div>\n",
       "<style scoped>\n",
       "    .dataframe tbody tr th:only-of-type {\n",
       "        vertical-align: middle;\n",
       "    }\n",
       "\n",
       "    .dataframe tbody tr th {\n",
       "        vertical-align: top;\n",
       "    }\n",
       "\n",
       "    .dataframe thead th {\n",
       "        text-align: right;\n",
       "    }\n",
       "</style>\n",
       "<table border=\"1\" class=\"dataframe\">\n",
       "  <thead>\n",
       "    <tr style=\"text-align: right;\">\n",
       "      <th></th>\n",
       "      <th>series_id</th>\n",
       "      <th>medium</th>\n",
       "      <th>total_area_km2</th>\n",
       "      <th>exceeded_area_km2</th>\n",
       "      <th>exceeded_area_pct</th>\n",
       "    </tr>\n",
       "  </thead>\n",
       "  <tbody>\n",
       "    <tr>\n",
       "      <th>0</th>\n",
       "      <td>28</td>\n",
       "      <td>water_fab</td>\n",
       "      <td>322184</td>\n",
       "      <td>61056</td>\n",
       "      <td>19</td>\n",
       "    </tr>\n",
       "  </tbody>\n",
       "</table>\n",
       "</div>"
      ],
      "text/plain": [
       "   series_id     medium  total_area_km2  exceeded_area_km2  exceeded_area_pct\n",
       "0         28  water_fab          322184              61056                 19"
      ]
     },
     "execution_count": 8,
     "metadata": {},
     "output_type": "execute_result"
    }
   ],
   "source": [
    "%%time\n",
    "# Extract arrays from dict\n",
    "cln_min = array_dict[\"clminn_meqpm2pyr\"]\n",
    "cln_max = array_dict[\"clmaxnoaa_meqpm2pyr\"]\n",
    "cls_min = array_dict[\"clmins_meqpm2pyr\"]\n",
    "cls_max = array_dict[\"clmaxsoaa_meqpm2pyr\"]\n",
    "dep_n = array_dict[\"ndep_mgpm2pyr\"] / 14  # Convert to meq\n",
    "dep_s = array_dict[\"sdep_mgpm2pyr\"] * 2 / 32.06  # Convert to meq\n",
    "\n",
    "# Estimate exceedances\n",
    "ex_n, ex_s, reg_id = cl.vectorised_exceed_ns_icpm(\n",
    "    cln_min, cln_max, cls_min, cls_max, dep_n, dep_s\n",
    ")\n",
    "\n",
    "# Get exceeded area\n",
    "ex = ex_n + ex_s\n",
    "ex_area = np.count_nonzero(ex > 0) * cell_size * cell_size / 1.0e6\n",
    "nor_area = np.count_nonzero(~np.isnan(dep_s)) * cell_size * cell_size / 1.0e6\n",
    "ex_pct = 100 * ex_area / nor_area\n",
    "\n",
    "# Build df and tidy\n",
    "ex_df = pd.DataFrame(\n",
    "    {\n",
    "        \"exceeded_area_km2\": ex_area,\n",
    "        \"total_area_km2\": nor_area,\n",
    "        \"exceeded_area_pct\": ex_pct,\n",
    "    },\n",
    "    index=[0],\n",
    ")\n",
    "\n",
    "ex_df = ex_df.round(0).astype(int)\n",
    "ex_df[\"series_id\"] = ser_id\n",
    "ex_df[\"medium\"] = \"water_fab\"\n",
    "\n",
    "ex_df = ex_df[\n",
    "    [\"series_id\", \"medium\", \"total_area_km2\", \"exceeded_area_km2\", \"exceeded_area_pct\"]\n",
    "]\n",
    "\n",
    "ex_df"
   ]
  },
  {
   "cell_type": "markdown",
   "metadata": {},
   "source": [
    "**If you connected to the database with `admin=True`**, these results can be saved back to the database."
   ]
  },
  {
   "cell_type": "code",
   "execution_count": 9,
   "metadata": {},
   "outputs": [],
   "source": [
    "## Write summary data to db\n",
    "# ex_df.to_sql('national_summary',\n",
    "#             eng,\n",
    "#             'summaries',\n",
    "#             if_exists='append',\n",
    "#             index=False)"
   ]
  },
  {
   "cell_type": "markdown",
   "metadata": {},
   "source": [
    "The code below writes the FAB results to GeoTiff format."
   ]
  },
  {
   "cell_type": "code",
   "execution_count": 10,
   "metadata": {},
   "outputs": [],
   "source": [
    "# Snap tiff\n",
    "snap_tif = f\"/home/jovyan/shared/critical_loads/raster/blr_land_mask_{cell_size}m.tif\"\n",
    "\n",
    "# N\n",
    "n_tif = f\"/home/jovyan/shared/critical_loads/raster/exceedance/fab_exn_meqpm2pyr_{short_name}_{cell_size}m.tif\"\n",
    "cl.write_geotiff(ex_n, n_tif, snap_tif, -1, gdal.GDT_Float32)\n",
    "\n",
    "# S\n",
    "s_tif = f\"/home/jovyan/shared/critical_loads/raster/exceedance/fab_exs_meqpm2pyr_{short_name}_{cell_size}m.tif\"\n",
    "cl.write_geotiff(ex_s, s_tif, snap_tif, -1, gdal.GDT_Float32)\n",
    "\n",
    "# N+S\n",
    "ns_tif = f\"/home/jovyan/shared/critical_loads/raster/exceedance/fab_exns_meqpm2pyr_{short_name}_{cell_size}m.tif\"\n",
    "cl.write_geotiff(ex_n + ex_s, ns_tif, snap_tif, -1, gdal.GDT_Float32)\n",
    "\n",
    "# Exceedance 'region'\n",
    "reg_tif = f\"/home/jovyan/shared/critical_loads/raster/exceedance/fab_ex_reg_id_{short_name}_{cell_size}m.tif\"\n",
    "cl.write_geotiff(reg_id, reg_tif, snap_tif, -1, gdal.GDT_Float32)"
   ]
  }
 ],
 "metadata": {
  "kernelspec": {
   "display_name": "Python 3",
   "language": "python",
   "name": "python3"
  },
  "language_info": {
   "codemirror_mode": {
    "name": "ipython",
    "version": 3
   },
   "file_extension": ".py",
   "mimetype": "text/x-python",
   "name": "python",
   "nbconvert_exporter": "python",
   "pygments_lexer": "ipython3",
   "version": "3.8.5"
  }
 },
 "nbformat": 4,
 "nbformat_minor": 4
}
