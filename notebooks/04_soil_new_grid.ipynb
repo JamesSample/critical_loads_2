{
 "cells": [
  {
   "cell_type": "code",
   "execution_count": 1,
   "metadata": {},
   "outputs": [],
   "source": [
    "%matplotlib inline\n",
    "import nivapy3 as nivapy\n",
    "import pandas as pd\n",
    "import geopandas as gpd\n",
    "import matplotlib.pyplot as plt\n",
    "import critical_loads as cl\n",
    "import statsmodels.formula.api as sm\n",
    "import warnings\n",
    "\n",
    "warnings.simplefilter('ignore')\n",
    "plt.style.use('ggplot')"
   ]
  },
  {
   "cell_type": "code",
   "execution_count": 2,
   "metadata": {},
   "outputs": [
    {
     "name": "stdin",
     "output_type": "stream",
     "text": [
      "Username:  ········\n",
      "Password:  ·······\n"
     ]
    },
    {
     "name": "stdout",
     "output_type": "stream",
     "text": [
      "Connection successful.\n"
     ]
    }
   ],
   "source": [
    "# Connect to PostGIS\n",
    "eng = nivapy.da.connect_postgis(database='critical_loads', admin=True)"
   ]
  },
  {
   "cell_type": "markdown",
   "metadata": {},
   "source": [
    "# Critical loads for soil (high-resolution method; 2018 onwards)\n",
    "\n",
    "This workflow is based on the notebook [here](https://nbviewer.jupyter.org/github/JamesSample/critical_loads/blob/master/notebooks/critical_loads_workflow_new_grid.ipynb), translated to the new JupyterHub environment.\n",
    "\n",
    "Soil calculations use the \"old\" method - see e-mail from Kari received 01/11/2017 at 13.47. The equation is simply\n",
    "\n",
    "$$E_{soil} = S_{dep} − CL_{soil}$$\n",
    "\n"
   ]
  },
  {
   "cell_type": "markdown",
   "metadata": {},
   "source": [
    "## 1. Select deposition series of interest\n",
    "\n",
    "The code below lists the deposition series in the database. Choose your series and interest and update `ser_id` in the cell below. **Note that this notebook only applies to the \"*new method, new grid*\" workflow** (i.e. datasets supplied from 2018 onwards). "
   ]
  },
  {
   "cell_type": "code",
   "execution_count": 3,
   "metadata": {},
   "outputs": [
    {
     "name": "stdout",
     "output_type": "stream",
     "text": [
      "Click 'Add Row', then edit the last row in the table to reflect the new data you wish to upload.\n"
     ]
    },
    {
     "data": {
      "application/vnd.jupyter.widget-view+json": {
       "model_id": "bf12500a2a184050ae4a027f62903845",
       "version_major": 2,
       "version_minor": 0
      },
      "text/plain": [
       "QgridWidget(grid_options={'fullWidthRows': True, 'syncColumnCellResize': True, 'forceFitColumns': True, 'defau…"
      ]
     },
     "metadata": {},
     "output_type": "display_data"
    }
   ],
   "source": [
    "# List available deposition series\n",
    "ser_grid = cl.view_dep_series(eng)\n",
    "ser_grid"
   ]
  },
  {
   "cell_type": "code",
   "execution_count": 4,
   "metadata": {},
   "outputs": [],
   "source": [
    "# series_id of interest\n",
    "ser_id = 28"
   ]
  },
  {
   "cell_type": "markdown",
   "metadata": {},
   "source": [
    "## 2. Create raster of S deposition"
   ]
  },
  {
   "cell_type": "code",
   "execution_count": 5,
   "metadata": {},
   "outputs": [],
   "source": [
    "# Create a deposition raster\n",
    "cl_tif = r'/home/jovyan/shared/critical_loads/raster/sat_veg_60m_cr_lds_div100.tif'\n",
    "dep_tif = r'/home/jovyan/shared/critical_loads/raster/deposition/sdep_12-16_60m.tif'\n",
    "cl.create_s_deposition_raster_0_1deg(ser_id, dep_tif, cl_tif, eng, ndv=-1)"
   ]
  }
 ],
 "metadata": {
  "kernelspec": {
   "display_name": "Python 3",
   "language": "python",
   "name": "python3"
  },
  "language_info": {
   "codemirror_mode": {
    "name": "ipython",
    "version": 3
   },
   "file_extension": ".py",
   "mimetype": "text/x-python",
   "name": "python",
   "nbconvert_exporter": "python",
   "pygments_lexer": "ipython3",
   "version": "3.7.3"
  }
 },
 "nbformat": 4,
 "nbformat_minor": 4
}
