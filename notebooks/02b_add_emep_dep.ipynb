{
 "cells": [
  {
   "cell_type": "code",
   "execution_count": null,
   "metadata": {},
   "outputs": [],
   "source": [
    "%matplotlib inline\n",
    "import pandas as pd\n",
    "import geopandas as gpd\n",
    "import nivapy3 as nivapy\n",
    "import numpy as np\n",
    "import critical_loads as cl\n",
    "import matplotlib.pyplot as plt\n",
    "import os\n",
    "import glob\n",
    "from shapely.geometry import Polygon\n",
    "\n",
    "plt.style.use(\"ggplot\")"
   ]
  },
  {
   "cell_type": "markdown",
   "metadata": {},
   "source": [
    "# Process and upload EMEP deposition data\n",
    "\n",
    "This notebook processes deposition data from EMEP on a 0.5 x 0.25 degree grid and adds it to the database. See the issue [here](https://github.com/JamesSample/critical_loads_2/issues/4) for details."
   ]
  },
  {
   "cell_type": "code",
   "execution_count": null,
   "metadata": {},
   "outputs": [],
   "source": [
    "# Connect to PostGIS\n",
    "eng = nivapy.da.connect_postgis(database=\"critical_loads\", admin=True)"
   ]
  },
  {
   "cell_type": "code",
   "execution_count": null,
   "metadata": {},
   "outputs": [],
   "source": [
    "# Get a list of files to process\n",
    "data_fold = r\"/home/jovyan/shared/critical_loads/emep_data\"\n",
    "search_path = os.path.join(data_fold, \"*.NO\")\n",
    "flist = glob.glob(search_path)\n",
    "flist"
   ]
  },
  {
   "cell_type": "markdown",
   "metadata": {},
   "source": [
    "## 1. Build vector grid for EMEP data"
   ]
  },
  {
   "cell_type": "code",
   "execution_count": null,
   "metadata": {},
   "outputs": [],
   "source": [
    "def build_rectangle(row):\n",
    "    \"\"\" Creates a vector polygon with a cell width of 0.5 degrees and a height of \n",
    "        0.25 degrees, based on co-ordinates for the cell centre.\n",
    "    \"\"\"\n",
    "    coords = (\n",
    "        (row[\"lon\"] - 0.25, row[\"lat\"] - 0.125),\n",
    "        (row[\"lon\"] + 0.25, row[\"lat\"] - 0.125),\n",
    "        (row[\"lon\"] + 0.25, row[\"lat\"] + 0.125),\n",
    "        (row[\"lon\"] - 0.25, row[\"lat\"] + 0.125),\n",
    "        (row[\"lon\"] - 0.25, row[\"lat\"] - 0.125),\n",
    "    )\n",
    "\n",
    "    return Polygon(coords)"
   ]
  },
  {
   "cell_type": "code",
   "execution_count": null,
   "metadata": {},
   "outputs": [],
   "source": [
    "# Build grid from single file\n",
    "df = pd.read_csv(flist[0], skiprows=3)\n",
    "df.rename({\"!Lon\": \"lon_ll\"}, axis=1, inplace=True)\n",
    "df.rename({\"Lat\": \"lat_ll\"}, axis=1, inplace=True)\n",
    "df.columns = [i.strip().lower() for i in df.columns]\n",
    "\n",
    "# Calculate cell centres\n",
    "df['lon'] = df['lon_ll'] + 0.25\n",
    "df['lat'] = df['lat_ll'] + 0.125\n",
    "\n",
    "# Build unique cell_id from centre co-ords\n",
    "df['cell_id'] = ((1000*df['lat']).astype(int).astype(str).str.zfill(5) + \n",
    "                 (1000*df['lon']).astype(int).astype(str).str.zfill(5))\n",
    "df['cell_id'] = df['cell_id'].astype(int)\n",
    "\n",
    "# Convert lower-left coords to polys\n",
    "df[\"geom\"] = df.apply(build_rectangle, axis=1)\n",
    "gdf = gpd.GeoDataFrame(df, geometry=\"geom\", crs=\"epsg:4326\")\n",
    "\n",
    "# Tidy\n",
    "gdf = gdf[['cell_id', 'lat', 'lon', 'lat_ll', 'lon_ll', 'geom']]\n",
    "gdf.head()"
   ]
  },
  {
   "cell_type": "code",
   "execution_count": null,
   "metadata": {},
   "outputs": [],
   "source": [
    "## Write to new db\n",
    "#nivapy.da.gdf_to_postgis(\n",
    "#    gdf,\n",
    "#    \"dep_grid_emep\",\n",
    "#    \"deposition\",\n",
    "#    eng,\n",
    "#    \"dep_dep_grid_emep_spidx\",\n",
    "#    if_exists=\"replace\",\n",
    "#    index=False,\n",
    "#    method=\"multi\",\n",
    "#    chunksize=1000,\n",
    "#)\n",
    "#\n",
    "##  Drop primary key col added automatically by NivaPy\n",
    "#sql = \"ALTER TABLE deposition.dep_grid_emep DROP COLUMN id\"\n",
    "#eng.execute(sql)\n",
    "#\n",
    "## Use 'cell_id' col as primary key\n",
    "#sql = (\n",
    "#    \"ALTER TABLE deposition.dep_grid_emep \"\n",
    "#    \"ADD CONSTRAINT dep_grid_emep_pk \"\n",
    "#    \"PRIMARY KEY (cell_id)\"\n",
    "#)\n",
    "#eng.execute(sql)\n",
    "#\n",
    "## Add column for area\n",
    "#sql = (\"ALTER TABLE deposition.dep_grid_emep \" \n",
    "#       \"ADD COLUMN area_m2 numeric\")\n",
    "#eng.execute(sql)\n",
    "#\n",
    "#sql = (\"UPDATE deposition.dep_grid_emep \" \n",
    "#       \"SET area_m2 = ST_Area(geom::geography)\")\n",
    "#eng.execute(sql)"
   ]
  },
  {
   "cell_type": "markdown",
   "metadata": {},
   "source": [
    "## 2. Create tables for EMEP deposition values"
   ]
  },
  {
   "cell_type": "markdown",
   "metadata": {},
   "source": [
    "### 2.1. Vegetation classes\n",
    "\n",
    "The EMEP data include three values for each grid cell: one for \"forest\", one for \"semi-natural\" and one for \"grid-average\". I'll add a separate table to store these options."
   ]
  },
  {
   "cell_type": "code",
   "execution_count": null,
   "metadata": {},
   "outputs": [],
   "source": [
    "# Table of EMEP veg classes\n",
    "veg_dict = {'veg_class_id': [1, 2, 3],\n",
    "            'veg_class_name':['Grid average', 'Forest', 'Semi-natural']\n",
    "           }\n",
    "df = pd.DataFrame(veg_dict)\n",
    "df"
   ]
  },
  {
   "cell_type": "code",
   "execution_count": null,
   "metadata": {},
   "outputs": [],
   "source": [
    "## Write to new db\n",
    "#df.to_sql('dep_emep_veg_defs', \n",
    "#          eng,\n",
    "#          'deposition',\n",
    "#          if_exists='replace',\n",
    "#          index=False,\n",
    "#         )\n",
    "#\n",
    "## Use 'dep_series_id' col as primary key\n",
    "#sql = (\"ALTER TABLE deposition.dep_emep_veg_defs \"\n",
    "#       \"ADD CONSTRAINT dep_emep_veg_defs_pk \"\n",
    "#       \"PRIMARY KEY (veg_class_id)\")\n",
    "#eng.execute(sql)"
   ]
  },
  {
   "cell_type": "markdown",
   "metadata": {},
   "source": [
    "### 2.2. Deposition values"
   ]
  },
  {
   "cell_type": "code",
   "execution_count": null,
   "metadata": {},
   "outputs": [],
   "source": [
    "## Delete if already exist\n",
    "#sql = (\"DROP TABLE IF EXISTS deposition.dep_values_emep_grid\")\n",
    "#eng.execute(sql)\n",
    "#\n",
    "## Create table for EMEP data\n",
    "#sql = (\"CREATE TABLE deposition.dep_values_emep_grid \"\n",
    "#       \"( \"\n",
    "#       \"  series_id integer NOT NULL, \"\n",
    "#       \"  cell_id bigint NOT NULL, \"\n",
    "#       \"  param_id integer NOT NULL, \"\n",
    "#       \"  veg_class_id integer NOT NULL, \"\n",
    "#       \"  value numeric, \"\n",
    "#       \"  PRIMARY KEY (series_id, cell_id, param_id, veg_class_id), \"\n",
    "#       \"  CONSTRAINT series_id_fkey FOREIGN KEY (series_id) \"\n",
    "#       \"      REFERENCES deposition.dep_series_defs (series_id) \"\n",
    "#       \"      ON UPDATE NO ACTION ON DELETE NO ACTION, \"\n",
    "#       \"  CONSTRAINT cell_id_fkey FOREIGN KEY (cell_id) \"\n",
    "#       \"      REFERENCES deposition.dep_grid_emep (cell_id) \"\n",
    "#       \"      ON UPDATE NO ACTION ON DELETE NO ACTION, \"\n",
    "#       \"  CONSTRAINT param_id_fkey FOREIGN KEY (param_id) \"\n",
    "#       \"      REFERENCES deposition.dep_param_defs (param_id) \"\n",
    "#       \"      ON UPDATE NO ACTION ON DELETE NO ACTION, \"\n",
    "#       \"  CONSTRAINT veg_class_id_fkey FOREIGN KEY (veg_class_id) \"\n",
    "#       \"      REFERENCES deposition.dep_emep_veg_defs (veg_class_id) \"\n",
    "#       \"      ON UPDATE NO ACTION ON DELETE NO ACTION \"\n",
    "#       \")\")\n",
    "#eng.execute(sql)"
   ]
  },
  {
   "cell_type": "markdown",
   "metadata": {},
   "source": [
    "## 3. Add deposition values"
   ]
  },
  {
   "cell_type": "markdown",
   "metadata": {},
   "source": [
    "### 3.1. Combine all data"
   ]
  },
  {
   "cell_type": "code",
   "execution_count": null,
   "metadata": {},
   "outputs": [],
   "source": [
    "# Dict mapping EMEP pars to deposition.dep_param_defs\n",
    "par_dict = {'N':1,\n",
    "            'A':2,\n",
    "            'S':4}\n",
    "\n",
    "# Dict mapping EMEP veg classes to deposition.dep_emep_veg_defs\n",
    "veg_dict = {'a':1,\n",
    "            'f':2,\n",
    "            'v':3}\n",
    "\n",
    "# Concatenate all data\n",
    "df_list = []\n",
    "for fpath in flist:\n",
    "    # Read data\n",
    "    df = pd.read_csv(fpath, skiprows=3)\n",
    "    df.rename({\"!Lon\": \"lon\"}, axis=1, inplace=True)\n",
    "    df.columns = [i.strip().lower() for i in df.columns]\n",
    "    \n",
    "    # Calculate cell centres\n",
    "    df['lon'] = df['lon'] + 0.25\n",
    "    df['lat'] = df['lat'] + 0.125\n",
    "\n",
    "    # Build cell_id from centre co-ords\n",
    "    df['cell_id'] = ((1000*df['lat']).astype(int).astype(str).str.zfill(5) + \n",
    "                     (1000*df['lon']).astype(int).astype(str).str.zfill(5))\n",
    "    df['cell_id'] = df['cell_id'].astype(int)    \n",
    "    del df['lon'], df['lat']\n",
    "    \n",
    "    # Add par and veg IDs\n",
    "    name = os.path.split(fpath)[1][:-3]    \n",
    "    df['param_id'] = par_dict[name[0]]\n",
    "    df['veg_class_id'] = veg_dict[name[-1]]\n",
    "    \n",
    "    df_list.append(df)\n",
    "    \n",
    "# Concatenate data\n",
    "df = pd.concat(df_list)\n",
    "\n",
    "# Set -1 to NaN\n",
    "df[df==-1] = np.nan\n",
    "\n",
    "df.head()"
   ]
  },
  {
   "cell_type": "markdown",
   "metadata": {},
   "source": [
    "### 3.2. Add to database\n",
    "\n",
    "Each time period corresponds to a data series in `deposition.dep_series_defs`."
   ]
  },
  {
   "cell_type": "code",
   "execution_count": null,
   "metadata": {},
   "outputs": [],
   "source": [
    "## Add series to db\n",
    "#series_list = list(range(1880, 2011, 5)) + [2020, 2030]\n",
    "#for idx, series in enumerate(series_list):\n",
    "#    # Start numbering from 31\n",
    "#    series_id = 31 + idx\n",
    "#    long_name = f'EMEP {series}'\n",
    "#    short_name = f'emep{series}'\n",
    "#    grid = 'emep'\n",
    "#    desc = f'{series} data based on the EMEP 0.50x0.25 degree grid. 3 vegetation classes. Extracted by Max Posch, received Jan 2016',\n",
    "#\n",
    "#    # Add to table\n",
    "#    cl.add_dep_series(series_id, \n",
    "#                      long_name,\n",
    "#                      short_name,\n",
    "#                      grid,\n",
    "#                      desc,   \n",
    "#                      eng,\n",
    "#                     )   "
   ]
  },
  {
   "cell_type": "code",
   "execution_count": null,
   "metadata": {},
   "outputs": [],
   "source": [
    "## Add values\n",
    "#series_list = list(range(1880, 2011, 5)) + [2020, 2030]\n",
    "#for idx, series in enumerate(series_list):\n",
    "#    # Start numbering from 31\n",
    "#    series_id = 31 + idx\n",
    "#    series = str(series)\n",
    "#\n",
    "#    # Get data\n",
    "#    val_df = df[['cell_id', 'param_id', 'veg_class_id', series]].copy()\n",
    "#    val_df.dropna(how='any', inplace=True)\n",
    "#    val_df['series_id'] = series_id\n",
    "#    val_df.rename({series:'value'}, axis=1, inplace=True)\n",
    "#    val_df = val_df[['series_id', 'cell_id', 'param_id', 'veg_class_id', 'value']]\n",
    "#    \n",
    "#    # Add to db\n",
    "#    val_df.to_sql('dep_values_emep_grid',\n",
    "#                  eng,\n",
    "#                  schema='deposition',\n",
    "#                  if_exists='append',\n",
    "#                  index=False,\n",
    "#                  method=\"multi\",\n",
    "#                  chunksize=1000,\n",
    "#                 )"
   ]
  }
 ],
 "metadata": {
  "kernelspec": {
   "display_name": "Python 3",
   "language": "python",
   "name": "python3"
  },
  "language_info": {
   "codemirror_mode": {
    "name": "ipython",
    "version": 3
   },
   "file_extension": ".py",
   "mimetype": "text/x-python",
   "name": "python",
   "nbconvert_exporter": "python",
   "pygments_lexer": "ipython3",
   "version": "3.8.5"
  }
 },
 "nbformat": 4,
 "nbformat_minor": 4
}
