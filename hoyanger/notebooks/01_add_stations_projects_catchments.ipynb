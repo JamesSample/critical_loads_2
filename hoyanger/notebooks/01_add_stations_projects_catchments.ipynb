{
 "cells": [
  {
   "cell_type": "code",
   "execution_count": 1,
   "metadata": {
    "tags": []
   },
   "outputs": [],
   "source": [
    "%matplotlib inline\n",
    "\n",
    "import geopandas as gpd\n",
    "import matplotlib.pyplot as plt\n",
    "import nivapy3 as nivapy\n",
    "import pandas as pd\n",
    "import shapely\n",
    "from geoalchemy2 import Geometry, WKTElement\n",
    "from shapely.geometry.multipolygon import MultiPolygon\n",
    "from shapely.geometry.polygon import Polygon\n",
    "from sqlalchemy import text\n",
    "\n",
    "plt.style.use(\"ggplot\")"
   ]
  },
  {
   "cell_type": "markdown",
   "metadata": {},
   "source": [
    "# Høyanger: Add catchment data to PostGIS\n",
    "\n",
    "Add catchment data from the template here:\n",
    "\n",
    "    critical_loads_2/hoyanger/hoyanger_stns.xlsx"
   ]
  },
  {
   "cell_type": "code",
   "execution_count": 2,
   "metadata": {
    "tags": []
   },
   "outputs": [
    {
     "name": "stdout",
     "output_type": "stream",
     "text": [
      "Connection successful.\n"
     ]
    }
   ],
   "source": [
    "# Connect to PostGIS\n",
    "eng = nivapy.da.connect_postgis(admin=True)"
   ]
  },
  {
   "cell_type": "markdown",
   "metadata": {},
   "source": [
    "## 1. Add project"
   ]
  },
  {
   "cell_type": "code",
   "execution_count": 3,
   "metadata": {
    "tags": []
   },
   "outputs": [
    {
     "data": {
      "text/html": [
       "<div>\n",
       "<style scoped>\n",
       "    .dataframe tbody tr th:only-of-type {\n",
       "        vertical-align: middle;\n",
       "    }\n",
       "\n",
       "    .dataframe tbody tr th {\n",
       "        vertical-align: top;\n",
       "    }\n",
       "\n",
       "    .dataframe thead th {\n",
       "        text-align: right;\n",
       "    }\n",
       "</style>\n",
       "<table border=\"1\" class=\"dataframe\">\n",
       "  <thead>\n",
       "    <tr style=\"text-align: right;\">\n",
       "      <th></th>\n",
       "      <th>project_code</th>\n",
       "      <th>project_name</th>\n",
       "      <th>aquamonitor_id</th>\n",
       "      <th>contact</th>\n",
       "      <th>description</th>\n",
       "    </tr>\n",
       "  </thead>\n",
       "  <tbody>\n",
       "    <tr>\n",
       "      <th>0</th>\n",
       "      <td>220263</td>\n",
       "      <td>Høyanger</td>\n",
       "      <td>NaN</td>\n",
       "      <td>KAU</td>\n",
       "      <td>Critical loads calculations for Høyanger</td>\n",
       "    </tr>\n",
       "  </tbody>\n",
       "</table>\n",
       "</div>"
      ],
      "text/plain": [
       "   project_code project_name  aquamonitor_id contact  \\\n",
       "0        220263     Høyanger             NaN     KAU   \n",
       "\n",
       "                                description  \n",
       "0  Critical loads calculations for Høyanger  "
      ]
     },
     "execution_count": 3,
     "metadata": {},
     "output_type": "execute_result"
    }
   ],
   "source": [
    "# Read projects\n",
    "xl_path = r\"../data/hoyanger_stns.xlsx\"\n",
    "proj_df = pd.read_excel(xl_path, sheet_name=\"project\")\n",
    "assert len(proj_df) == 1\n",
    "\n",
    "proj_df"
   ]
  },
  {
   "cell_type": "code",
   "execution_count": 4,
   "metadata": {
    "tags": []
   },
   "outputs": [],
   "source": [
    "# # Add project\n",
    "# proj_df.to_sql(\n",
    "#    \"projects\", schema=\"niva\", con=eng, if_exists=\"append\", index=False,\n",
    "# )"
   ]
  },
  {
   "cell_type": "markdown",
   "metadata": {},
   "source": [
    "## 2. Add stations"
   ]
  },
  {
   "cell_type": "code",
   "execution_count": 5,
   "metadata": {
    "tags": []
   },
   "outputs": [
    {
     "data": {
      "text/html": [
       "<div>\n",
       "<style scoped>\n",
       "    .dataframe tbody tr th:only-of-type {\n",
       "        vertical-align: middle;\n",
       "    }\n",
       "\n",
       "    .dataframe tbody tr th {\n",
       "        vertical-align: top;\n",
       "    }\n",
       "\n",
       "    .dataframe thead th {\n",
       "        text-align: right;\n",
       "    }\n",
       "</style>\n",
       "<table border=\"1\" class=\"dataframe\">\n",
       "  <thead>\n",
       "    <tr style=\"text-align: right;\">\n",
       "      <th></th>\n",
       "      <th>station_code</th>\n",
       "      <th>station_name</th>\n",
       "      <th>aquamonitor_id</th>\n",
       "      <th>longitude</th>\n",
       "      <th>latitude</th>\n",
       "      <th>fpath_or_id</th>\n",
       "    </tr>\n",
       "  </thead>\n",
       "  <tbody>\n",
       "    <tr>\n",
       "      <th>0</th>\n",
       "      <td>EIR</td>\n",
       "      <td>Eiriksdal</td>\n",
       "      <td>NaN</td>\n",
       "      <td>6.215740</td>\n",
       "      <td>61.233612</td>\n",
       "      <td>../shapefiles/Eiriksdal.shp</td>\n",
       "    </tr>\n",
       "    <tr>\n",
       "      <th>1</th>\n",
       "      <td>GAU</td>\n",
       "      <td>Gautingdalselva</td>\n",
       "      <td>NaN</td>\n",
       "      <td>6.144167</td>\n",
       "      <td>61.241150</td>\n",
       "      <td>../shapefiles/Gautingdalselva.shp</td>\n",
       "    </tr>\n",
       "    <tr>\n",
       "      <th>2</th>\n",
       "      <td>HAA</td>\n",
       "      <td>Haaland</td>\n",
       "      <td>NaN</td>\n",
       "      <td>6.077150</td>\n",
       "      <td>61.220030</td>\n",
       "      <td>../shapefiles/Haaland.shp</td>\n",
       "    </tr>\n",
       "    <tr>\n",
       "      <th>3</th>\n",
       "      <td>HOY</td>\n",
       "      <td>Hoyanger</td>\n",
       "      <td>NaN</td>\n",
       "      <td>6.073730</td>\n",
       "      <td>61.216397</td>\n",
       "      <td>../shapefiles/Hoyanger.shp</td>\n",
       "    </tr>\n",
       "  </tbody>\n",
       "</table>\n",
       "</div>"
      ],
      "text/plain": [
       "  station_code     station_name  aquamonitor_id  longitude   latitude  \\\n",
       "0          EIR        Eiriksdal             NaN   6.215740  61.233612   \n",
       "1          GAU  Gautingdalselva             NaN   6.144167  61.241150   \n",
       "2          HAA          Haaland             NaN   6.077150  61.220030   \n",
       "3          HOY         Hoyanger             NaN   6.073730  61.216397   \n",
       "\n",
       "                         fpath_or_id  \n",
       "0        ../shapefiles/Eiriksdal.shp  \n",
       "1  ../shapefiles/Gautingdalselva.shp  \n",
       "2          ../shapefiles/Haaland.shp  \n",
       "3         ../shapefiles/Hoyanger.shp  "
      ]
     },
     "execution_count": 5,
     "metadata": {},
     "output_type": "execute_result"
    }
   ],
   "source": [
    "# Read stations\n",
    "xl_path = r\"../data/hoyanger_stns.xlsx\"\n",
    "stn_df = pd.read_excel(xl_path, sheet_name=\"stations\")\n",
    "stn_df[\"longitude\"] = stn_df[\"longitude\"].round(6)\n",
    "stn_df[\"latitude\"] = stn_df[\"latitude\"].round(6)\n",
    "\n",
    "stn_df.head()"
   ]
  },
  {
   "cell_type": "code",
   "execution_count": 6,
   "metadata": {
    "tags": []
   },
   "outputs": [
    {
     "data": {
      "text/html": [
       "<div>\n",
       "<style scoped>\n",
       "    .dataframe tbody tr th:only-of-type {\n",
       "        vertical-align: middle;\n",
       "    }\n",
       "\n",
       "    .dataframe tbody tr th {\n",
       "        vertical-align: top;\n",
       "    }\n",
       "\n",
       "    .dataframe thead th {\n",
       "        text-align: right;\n",
       "    }\n",
       "</style>\n",
       "<table border=\"1\" class=\"dataframe\">\n",
       "  <thead>\n",
       "    <tr style=\"text-align: right;\">\n",
       "      <th></th>\n",
       "      <th>station_code</th>\n",
       "      <th>station_name</th>\n",
       "      <th>aquamonitor_id</th>\n",
       "      <th>longitude</th>\n",
       "      <th>latitude</th>\n",
       "      <th>geom</th>\n",
       "    </tr>\n",
       "  </thead>\n",
       "  <tbody>\n",
       "    <tr>\n",
       "      <th>0</th>\n",
       "      <td>EIR</td>\n",
       "      <td>Eiriksdal</td>\n",
       "      <td>NaN</td>\n",
       "      <td>6.215740</td>\n",
       "      <td>61.233612</td>\n",
       "      <td>POINT (6.21574 61.233612)</td>\n",
       "    </tr>\n",
       "    <tr>\n",
       "      <th>1</th>\n",
       "      <td>GAU</td>\n",
       "      <td>Gautingdalselva</td>\n",
       "      <td>NaN</td>\n",
       "      <td>6.144167</td>\n",
       "      <td>61.241150</td>\n",
       "      <td>POINT (6.144167 61.24115)</td>\n",
       "    </tr>\n",
       "    <tr>\n",
       "      <th>2</th>\n",
       "      <td>HAA</td>\n",
       "      <td>Haaland</td>\n",
       "      <td>NaN</td>\n",
       "      <td>6.077150</td>\n",
       "      <td>61.220030</td>\n",
       "      <td>POINT (6.07715 61.22003)</td>\n",
       "    </tr>\n",
       "    <tr>\n",
       "      <th>3</th>\n",
       "      <td>HOY</td>\n",
       "      <td>Hoyanger</td>\n",
       "      <td>NaN</td>\n",
       "      <td>6.073730</td>\n",
       "      <td>61.216397</td>\n",
       "      <td>POINT (6.07373 61.216397)</td>\n",
       "    </tr>\n",
       "  </tbody>\n",
       "</table>\n",
       "</div>"
      ],
      "text/plain": [
       "  station_code     station_name  aquamonitor_id  longitude   latitude  \\\n",
       "0          EIR        Eiriksdal             NaN   6.215740  61.233612   \n",
       "1          GAU  Gautingdalselva             NaN   6.144167  61.241150   \n",
       "2          HAA          Haaland             NaN   6.077150  61.220030   \n",
       "3          HOY         Hoyanger             NaN   6.073730  61.216397   \n",
       "\n",
       "                        geom  \n",
       "0  POINT (6.21574 61.233612)  \n",
       "1  POINT (6.144167 61.24115)  \n",
       "2   POINT (6.07715 61.22003)  \n",
       "3  POINT (6.07373 61.216397)  "
      ]
     },
     "execution_count": 6,
     "metadata": {},
     "output_type": "execute_result"
    }
   ],
   "source": [
    "# Build geom\n",
    "stn_gdf = gpd.GeoDataFrame(\n",
    "    stn_df,\n",
    "    crs=\"epsg:4326\",\n",
    "    geometry=gpd.points_from_xy(stn_df.longitude, stn_df.latitude),\n",
    ").copy()\n",
    "stn_gdf[\"geom\"] = stn_gdf[\"geometry\"].apply(lambda x: WKTElement(x.wkt, srid=4326))\n",
    "del stn_gdf[\"fpath_or_id\"], stn_gdf[\"geometry\"]\n",
    "\n",
    "stn_gdf.head()"
   ]
  },
  {
   "cell_type": "code",
   "execution_count": 7,
   "metadata": {
    "tags": []
   },
   "outputs": [],
   "source": [
    "# # Add stations\n",
    "# stn_gdf.to_sql(\n",
    "#     \"stations\",\n",
    "#     schema=\"niva\",\n",
    "#     con=eng,\n",
    "#     if_exists=\"append\",\n",
    "#     index=False,\n",
    "#     dtype={\"geom\": Geometry(\"POINT\", srid=4326)},\n",
    "#     method=\"multi\",\n",
    "#     chunksize=1000,\n",
    "# )"
   ]
  },
  {
   "cell_type": "markdown",
   "metadata": {},
   "source": [
    "## 3. Add project-stations"
   ]
  },
  {
   "cell_type": "code",
   "execution_count": 8,
   "metadata": {
    "tags": []
   },
   "outputs": [
    {
     "data": {
      "text/html": [
       "<div>\n",
       "<style scoped>\n",
       "    .dataframe tbody tr th:only-of-type {\n",
       "        vertical-align: middle;\n",
       "    }\n",
       "\n",
       "    .dataframe tbody tr th {\n",
       "        vertical-align: top;\n",
       "    }\n",
       "\n",
       "    .dataframe thead th {\n",
       "        text-align: right;\n",
       "    }\n",
       "</style>\n",
       "<table border=\"1\" class=\"dataframe\">\n",
       "  <thead>\n",
       "    <tr style=\"text-align: right;\">\n",
       "      <th></th>\n",
       "      <th>station_id</th>\n",
       "      <th>project_id</th>\n",
       "    </tr>\n",
       "  </thead>\n",
       "  <tbody>\n",
       "    <tr>\n",
       "      <th>0</th>\n",
       "      <td>1285</td>\n",
       "      <td>6</td>\n",
       "    </tr>\n",
       "    <tr>\n",
       "      <th>1</th>\n",
       "      <td>1286</td>\n",
       "      <td>6</td>\n",
       "    </tr>\n",
       "    <tr>\n",
       "      <th>2</th>\n",
       "      <td>1287</td>\n",
       "      <td>6</td>\n",
       "    </tr>\n",
       "    <tr>\n",
       "      <th>3</th>\n",
       "      <td>1288</td>\n",
       "      <td>6</td>\n",
       "    </tr>\n",
       "  </tbody>\n",
       "</table>\n",
       "</div>"
      ],
      "text/plain": [
       "   station_id  project_id\n",
       "0        1285           6\n",
       "1        1286           6\n",
       "2        1287           6\n",
       "3        1288           6"
      ]
     },
     "execution_count": 8,
     "metadata": {},
     "output_type": "execute_result"
    }
   ],
   "source": [
    "# Build table for projects-stations\n",
    "# Get station IDs\n",
    "stn_codes = tuple(stn_df[\"station_code\"].unique())\n",
    "sql = text(\"SELECT station_id FROM niva.stations WHERE station_code IN :stn_codes\")\n",
    "prst_df = pd.read_sql(sql, params={\"stn_codes\": stn_codes}, con=eng)\n",
    "\n",
    "# Get project ID\n",
    "proj_code = proj_df[\"project_code\"].values[0]\n",
    "sql = text(\"SELECT project_id FROM niva.projects WHERE project_code = :proj_code\")\n",
    "proj_id = pd.read_sql(sql, params={\"proj_code\": str(proj_code)}, con=eng)[\n",
    "    \"project_id\"\n",
    "].iloc[0]\n",
    "\n",
    "prst_df[\"project_id\"] = proj_id\n",
    "prst_df.head()"
   ]
  },
  {
   "cell_type": "code",
   "execution_count": 9,
   "metadata": {
    "tags": []
   },
   "outputs": [],
   "source": [
    "# # Add projects-stations\n",
    "# prst_df.to_sql(\n",
    "#     \"projects_stations\",\n",
    "#     schema=\"niva\",\n",
    "#     con=eng,\n",
    "#     if_exists=\"append\",\n",
    "#     index=False,\n",
    "#     method=\"multi\",\n",
    "#     chunksize=1000,\n",
    "# )"
   ]
  },
  {
   "cell_type": "markdown",
   "metadata": {},
   "source": [
    "## 4. Add catchments"
   ]
  },
  {
   "cell_type": "code",
   "execution_count": 10,
   "metadata": {
    "tags": []
   },
   "outputs": [
    {
     "data": {
      "text/html": [
       "<div>\n",
       "<style scoped>\n",
       "    .dataframe tbody tr th:only-of-type {\n",
       "        vertical-align: middle;\n",
       "    }\n",
       "\n",
       "    .dataframe tbody tr th {\n",
       "        vertical-align: top;\n",
       "    }\n",
       "\n",
       "    .dataframe thead th {\n",
       "        text-align: right;\n",
       "    }\n",
       "</style>\n",
       "<table border=\"1\" class=\"dataframe\">\n",
       "  <thead>\n",
       "    <tr style=\"text-align: right;\">\n",
       "      <th></th>\n",
       "      <th>station_code</th>\n",
       "      <th>geometry</th>\n",
       "    </tr>\n",
       "  </thead>\n",
       "  <tbody>\n",
       "    <tr>\n",
       "      <th>0</th>\n",
       "      <td>EIR</td>\n",
       "      <td>POLYGON ((37248.834 6823946.164, 37499.337 682...</td>\n",
       "    </tr>\n",
       "    <tr>\n",
       "      <th>1</th>\n",
       "      <td>GAU</td>\n",
       "      <td>POLYGON ((29139.510 6824275.830, 29235.270 682...</td>\n",
       "    </tr>\n",
       "    <tr>\n",
       "      <th>2</th>\n",
       "      <td>HAA</td>\n",
       "      <td>POLYGON ((22172.792 6822076.278, 22182.177 682...</td>\n",
       "    </tr>\n",
       "    <tr>\n",
       "      <th>3</th>\n",
       "      <td>HOY</td>\n",
       "      <td>POLYGON ((29139.510 6824275.830, 29235.270 682...</td>\n",
       "    </tr>\n",
       "  </tbody>\n",
       "</table>\n",
       "</div>"
      ],
      "text/plain": [
       "  station_code                                           geometry\n",
       "0          EIR  POLYGON ((37248.834 6823946.164, 37499.337 682...\n",
       "1          GAU  POLYGON ((29139.510 6824275.830, 29235.270 682...\n",
       "2          HAA  POLYGON ((22172.792 6822076.278, 22182.177 682...\n",
       "3          HOY  POLYGON ((29139.510 6824275.830, 29235.270 682..."
      ]
     },
     "execution_count": 10,
     "metadata": {},
     "output_type": "execute_result"
    }
   ],
   "source": [
    "# Loop over catchments\n",
    "gdf_list = []\n",
    "for idx, row in stn_df.iterrows():\n",
    "    stn_code = row[\"station_code\"]\n",
    "    shp_path = row[\"fpath_or_id\"]\n",
    "    cat_gdf = gpd.read_file(shp_path)\n",
    "    cat_gdf[\"dissolve\"] = 1\n",
    "    cat_gdf[\"station_code\"] = stn_code\n",
    "    cat_gdf = cat_gdf.dissolve(by=\"dissolve\").reset_index()\n",
    "    cat_gdf = cat_gdf[[\"station_code\", \"geometry\"]]\n",
    "    gdf_list.append(cat_gdf)\n",
    "\n",
    "cat_gdf = pd.concat(gdf_list).reset_index(drop=True)\n",
    "cat_gdf.head()"
   ]
  },
  {
   "cell_type": "code",
   "execution_count": 11,
   "metadata": {
    "tags": []
   },
   "outputs": [
    {
     "data": {
      "text/html": [
       "<div>\n",
       "<style scoped>\n",
       "    .dataframe tbody tr th:only-of-type {\n",
       "        vertical-align: middle;\n",
       "    }\n",
       "\n",
       "    .dataframe tbody tr th {\n",
       "        vertical-align: top;\n",
       "    }\n",
       "\n",
       "    .dataframe thead th {\n",
       "        text-align: right;\n",
       "    }\n",
       "</style>\n",
       "<table border=\"1\" class=\"dataframe\">\n",
       "  <thead>\n",
       "    <tr style=\"text-align: right;\">\n",
       "      <th></th>\n",
       "      <th>station_id</th>\n",
       "      <th>geom</th>\n",
       "    </tr>\n",
       "  </thead>\n",
       "  <tbody>\n",
       "    <tr>\n",
       "      <th>0</th>\n",
       "      <td>1285</td>\n",
       "      <td>MULTIPOLYGON (((6.352129055221746 61.273364696...</td>\n",
       "    </tr>\n",
       "    <tr>\n",
       "      <th>1</th>\n",
       "      <td>1286</td>\n",
       "      <td>MULTIPOLYGON (((6.201841751529703 61.266608234...</td>\n",
       "    </tr>\n",
       "    <tr>\n",
       "      <th>2</th>\n",
       "      <td>1287</td>\n",
       "      <td>MULTIPOLYGON (((6.079085860095882 61.238651879...</td>\n",
       "    </tr>\n",
       "    <tr>\n",
       "      <th>3</th>\n",
       "      <td>1288</td>\n",
       "      <td>MULTIPOLYGON (((6.201841751529719 61.266608234...</td>\n",
       "    </tr>\n",
       "  </tbody>\n",
       "</table>\n",
       "</div>"
      ],
      "text/plain": [
       "   station_id                                               geom\n",
       "0        1285  MULTIPOLYGON (((6.352129055221746 61.273364696...\n",
       "1        1286  MULTIPOLYGON (((6.201841751529703 61.266608234...\n",
       "2        1287  MULTIPOLYGON (((6.079085860095882 61.238651879...\n",
       "3        1288  MULTIPOLYGON (((6.201841751529719 61.266608234..."
      ]
     },
     "execution_count": 11,
     "metadata": {},
     "output_type": "execute_result"
    }
   ],
   "source": [
    "# Get station IDs from db\n",
    "proj_id = 6\n",
    "sql = text(\n",
    "    \"SELECT station_id, station_code FROM niva.stations \"\n",
    "    \"WHERE station_id IN ( \"\n",
    "    \"  SELECT station_id from niva.projects_stations \"\n",
    "    \"  WHERE project_id = :proj_id)\"\n",
    ")\n",
    "stn_ids = pd.read_sql(sql, params={\"proj_id\": proj_id}, con=eng)\n",
    "\n",
    "# Join catchments\n",
    "cat_gdf = cat_gdf.merge(stn_ids, on=\"station_code\")\n",
    "\n",
    "# Reproject to WGS84 GCS\n",
    "cat_gdf = cat_gdf.to_crs(\"epsg:4326\")\n",
    "\n",
    "# Cast to multi\n",
    "cat_gdf[\"geometry\"] = [\n",
    "    MultiPolygon([feature]) if type(feature) == Polygon else feature\n",
    "    for feature in cat_gdf[\"geometry\"]\n",
    "]\n",
    "\n",
    "# Convert 3D to 2D\n",
    "cat_gdf[\"geom\"] = cat_gdf[\"geometry\"].apply(\n",
    "    lambda x: shapely.wkb.loads(shapely.wkb.dumps(x, output_dimension=2))\n",
    ")\n",
    "\n",
    "# Tidy\n",
    "cat_gdf[\"geom\"] = cat_gdf[\"geom\"].apply(lambda x: WKTElement(x.wkt, srid=4326))\n",
    "cat_gdf = cat_gdf[[\"station_id\", \"geom\"]]\n",
    "\n",
    "cat_gdf.head()"
   ]
  },
  {
   "cell_type": "code",
   "execution_count": 12,
   "metadata": {
    "tags": []
   },
   "outputs": [],
   "source": [
    "# # Add catchments\n",
    "# cat_gdf.to_sql(\n",
    "#     \"catchments\",\n",
    "#     schema=\"niva\",\n",
    "#     con=eng,\n",
    "#     if_exists=\"append\",\n",
    "#     index=False,\n",
    "#     dtype={\"geom\": Geometry(\"MULTIPOLYGON\", srid=4326)},\n",
    "#     method=\"multi\",\n",
    "#     chunksize=1000,\n",
    "# )"
   ]
  }
 ],
 "metadata": {
  "kernelspec": {
   "display_name": "Python 3 (ipykernel)",
   "language": "python",
   "name": "python3"
  },
  "language_info": {
   "codemirror_mode": {
    "name": "ipython",
    "version": 3
   },
   "file_extension": ".py",
   "mimetype": "text/x-python",
   "name": "python",
   "nbconvert_exporter": "python",
   "pygments_lexer": "ipython3",
   "version": "3.10.11"
  }
 },
 "nbformat": 4,
 "nbformat_minor": 4
}
